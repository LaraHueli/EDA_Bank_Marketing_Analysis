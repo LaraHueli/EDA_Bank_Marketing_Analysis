{
 "cells": [
  {
   "cell_type": "code",
   "execution_count": null,
   "metadata": {},
   "outputs": [],
   "source": [
    "!pip install matplotlib seaborn\n",
    "##Importaciones necesarias\n",
    "import pandas as pd\n",
    "import numpy as np\n",
    "import matplotlib.pyplot as plt\n",
    "import seaborn as sns\n",
    "\n",
    "# Importar funciones personalizadas\n",
    "target_path = \"../src/\"\n",
    "import sys\n",
    "sys.path.append(target_path)\n",
    "\n",
    "import sp_limpieza \n",
    "import sp_eda\n",
    "import sp_visualizacion\n",
    "\n",
    "# Importar las funciones del archivo 'sp_limpieza.py' y sp_eda.py' en 'src'\n",
    "from sp_eda import calcular_nulos\n",
    "from sp_eda import calcular_porcentaje_nulos\n",
    "from sp_eda import analisis_general_cat\n",
    "from sp_visualizacion import graficar_categoricas\n",
    "from sp_limpieza import rellenar_nulos_categoricas\n",
    "\n",
    "\n"
   ]
  },
  {
   "cell_type": "code",
   "execution_count": 2,
   "metadata": {},
   "outputs": [],
   "source": [
    "df_limpio = pd.read_csv(\"../data/bank_limpio.csv\")  # Ajusta la ruta según tu estructura\n"
   ]
  },
  {
   "cell_type": "code",
   "execution_count": 3,
   "metadata": {},
   "outputs": [
    {
     "data": {
      "text/plain": [
       "age               11.906977\n",
       "job                0.802326\n",
       "marital            0.197674\n",
       "education          4.202326\n",
       "default           20.886047\n",
       "housing            2.386047\n",
       "loan               2.386047\n",
       "contact            0.000000\n",
       "duration           0.000000\n",
       "campaign           0.000000\n",
       "pdays              0.000000\n",
       "previous           0.000000\n",
       "emp_var_rate       0.000000\n",
       "cons_price_idx     1.095349\n",
       "cons_conf_idx      0.000000\n",
       "euribor3m         21.525581\n",
       "nr_employed        0.000000\n",
       "y                  0.000000\n",
       "id_                0.000000\n",
       "year               0.000000\n",
       "month              0.000000\n",
       "day                0.000000\n",
       "dtype: float64"
      ]
     },
     "execution_count": 3,
     "metadata": {},
     "output_type": "execute_result"
    }
   ],
   "source": [
    "calcular_porcentaje_nulos(df_limpio)"
   ]
  },
  {
   "cell_type": "code",
   "execution_count": 4,
   "metadata": {},
   "outputs": [
    {
     "data": {
      "text/plain": [
       "age               5120\n",
       "job                345\n",
       "marital             85\n",
       "education         1807\n",
       "default           8981\n",
       "housing           1026\n",
       "loan              1026\n",
       "contact              0\n",
       "duration             0\n",
       "campaign             0\n",
       "pdays                0\n",
       "previous             0\n",
       "emp_var_rate         0\n",
       "cons_price_idx     471\n",
       "cons_conf_idx        0\n",
       "euribor3m         9256\n",
       "nr_employed          0\n",
       "y                    0\n",
       "id_                  0\n",
       "year                 0\n",
       "month                0\n",
       "day                  0\n",
       "dtype: int64"
      ]
     },
     "execution_count": 4,
     "metadata": {},
     "output_type": "execute_result"
    }
   ],
   "source": [
    "numero_nulos_df_limpio, porcentaje_nulos_df_limpio = sp_eda.calcular_nulos(df_limpio)\n",
    "numero_nulos_df_limpio"
   ]
  },
  {
   "cell_type": "code",
   "execution_count": 5,
   "metadata": {},
   "outputs": [
    {
     "data": {
      "text/plain": [
       "Index(['job', 'marital', 'education', 'contact', 'y', 'id_'], dtype='object')"
      ]
     },
     "execution_count": 5,
     "metadata": {},
     "output_type": "execute_result"
    }
   ],
   "source": [
    "# analisis y gestion de nulos de las categoricas\n",
    "# visualizacion de columnas catagoricas\n",
    "col_catg = df_limpio.select_dtypes(include='O').columns\n",
    "col_catg"
   ]
  },
  {
   "cell_type": "code",
   "execution_count": 6,
   "metadata": {},
   "outputs": [
    {
     "data": {
      "text/plain": [
       "array(['housemaid', 'services', 'admin.', 'blue-collar', 'technician',\n",
       "       'retired', 'management', 'unemployed', 'self-employed', nan,\n",
       "       'entrepreneur', 'student'], dtype=object)"
      ]
     },
     "execution_count": 6,
     "metadata": {},
     "output_type": "execute_result"
    }
   ],
   "source": [
    "# revisamos valores unicos\n",
    "df_limpio['job'].unique()\n"
   ]
  },
  {
   "cell_type": "code",
   "execution_count": 7,
   "metadata": {},
   "outputs": [
    {
     "data": {
      "text/plain": [
       "job\n",
       "admin.           0.254906\n",
       "blue-collar      0.226328\n",
       "technician       0.164717\n",
       "services         0.097574\n",
       "management       0.071504\n",
       "retired          0.041965\n",
       "entrepreneur     0.035682\n",
       "self-employed    0.034908\n",
       "housemaid        0.026328\n",
       "unemployed       0.024921\n",
       "student          0.021170\n",
       "Name: proportion, dtype: float64"
      ]
     },
     "execution_count": 7,
     "metadata": {},
     "output_type": "execute_result"
    }
   ],
   "source": [
    "#cuantos tengo por cada valor\n",
    "df_limpio['job'].value_counts(normalize=True)"
   ]
  },
  {
   "cell_type": "code",
   "execution_count": 8,
   "metadata": {},
   "outputs": [
    {
     "data": {
      "text/plain": [
       "count      42655\n",
       "unique        11\n",
       "top       admin.\n",
       "freq       10873\n",
       "Name: job, dtype: object"
      ]
     },
     "execution_count": 8,
     "metadata": {},
     "output_type": "execute_result"
    }
   ],
   "source": [
    "#valores descrptivos\n",
    "df_limpio['job'].describe()"
   ]
  },
  {
   "cell_type": "code",
   "execution_count": 9,
   "metadata": {},
   "outputs": [
    {
     "data": {
      "image/png": "[encoded data removed]",
      "text/plain": [
       "<Figure size 1000x500 with 1 Axes>"
      ]
     },
     "metadata": {},
     "output_type": "display_data"
    }
   ],
   "source": [
    "# creamos grafico de esta columna\n",
    "plt.figure(figsize=(10, 5))\n",
    "sns.countplot(data=df_limpio, x=\"job\", hue='job'); # podemos poner loque queramos en hue y nos saca datos para comparar\n",
    "plt.title(\"Distribución de Trabajos\")  # Título\n",
    "plt.xlabel(\"Categoría de Trabajo\")  # Etiqueta del eje X\n",
    "plt.xticks(rotation=90)  # Rotar etiquetas del eje X\n",
    "plt.show()\n",
    "\n"
   ]
  },
  {
   "cell_type": "code",
   "execution_count": 10,
   "metadata": {},
   "outputs": [
    {
     "name": "stdout",
     "output_type": "stream",
     "text": [
      "\n",
      "--- Análisis de la columna: JOB ---\n",
      "Esta columna tiene 12 valores únicos.\n",
      "\n"
     ]
    },
    {
     "data": {
      "text/plain": [
       "job\n",
       "admin.           0.254906\n",
       "blue-collar      0.226328\n",
       "technician       0.164717\n",
       "services         0.097574\n",
       "management       0.071504\n",
       "retired          0.041965\n",
       "entrepreneur     0.035682\n",
       "self-employed    0.034908\n",
       "housemaid        0.026328\n",
       "unemployed       0.024921\n",
       "student          0.021170\n",
       "Name: proportion, dtype: float64"
      ]
     },
     "metadata": {},
     "output_type": "display_data"
    },
    {
     "data": {
      "text/plain": [
       "count      42655\n",
       "unique        11\n",
       "top       admin.\n",
       "freq       10873\n",
       "Name: job, dtype: object"
      ]
     },
     "metadata": {},
     "output_type": "display_data"
    },
    {
     "name": "stdout",
     "output_type": "stream",
     "text": [
      "\n",
      "--------------------------------------\n",
      "\n",
      "--- Análisis de la columna: MARITAL ---\n",
      "Esta columna tiene 4 valores únicos.\n",
      "\n"
     ]
    },
    {
     "data": {
      "text/plain": [
       "marital\n",
       "married     0.605825\n",
       "single      0.282069\n",
       "divorced    0.112105\n",
       "Name: proportion, dtype: float64"
      ]
     },
     "metadata": {},
     "output_type": "display_data"
    },
    {
     "data": {
      "text/plain": [
       "count       42915\n",
       "unique          3\n",
       "top       married\n",
       "freq        25999\n",
       "Name: marital, dtype: object"
      ]
     },
     "metadata": {},
     "output_type": "display_data"
    },
    {
     "name": "stdout",
     "output_type": "stream",
     "text": [
      "\n",
      "--------------------------------------\n",
      "\n",
      "--- Análisis de la columna: EDUCATION ---\n",
      "Esta columna tiene 6 valores únicos.\n",
      "\n"
     ]
    },
    {
     "data": {
      "text/plain": [
       "education\n",
       "basic                  0.316826\n",
       "university.degree      0.308839\n",
       "high.school            0.240939\n",
       "professional.course    0.132959\n",
       "illiterate             0.000437\n",
       "Name: proportion, dtype: float64"
      ]
     },
     "metadata": {},
     "output_type": "display_data"
    },
    {
     "data": {
      "text/plain": [
       "count     41193\n",
       "unique        5\n",
       "top       basic\n",
       "freq      13051\n",
       "Name: education, dtype: object"
      ]
     },
     "metadata": {},
     "output_type": "display_data"
    },
    {
     "name": "stdout",
     "output_type": "stream",
     "text": [
      "\n",
      "--------------------------------------\n",
      "\n",
      "--- Análisis de la columna: CONTACT ---\n",
      "Esta columna tiene 2 valores únicos.\n",
      "\n"
     ]
    },
    {
     "data": {
      "text/plain": [
       "contact\n",
       "cellular     0.637116\n",
       "telephone    0.362884\n",
       "Name: proportion, dtype: float64"
      ]
     },
     "metadata": {},
     "output_type": "display_data"
    },
    {
     "data": {
      "text/plain": [
       "count        43000\n",
       "unique           2\n",
       "top       cellular\n",
       "freq         27396\n",
       "Name: contact, dtype: object"
      ]
     },
     "metadata": {},
     "output_type": "display_data"
    },
    {
     "name": "stdout",
     "output_type": "stream",
     "text": [
      "\n",
      "--------------------------------------\n",
      "\n",
      "--- Análisis de la columna: Y ---\n",
      "Esta columna tiene 2 valores únicos.\n",
      "\n"
     ]
    },
    {
     "data": {
      "text/plain": [
       "y\n",
       "no     0.887349\n",
       "yes    0.112651\n",
       "Name: proportion, dtype: float64"
      ]
     },
     "metadata": {},
     "output_type": "display_data"
    },
    {
     "data": {
      "text/plain": [
       "count     43000\n",
       "unique        2\n",
       "top          no\n",
       "freq      38156\n",
       "Name: y, dtype: object"
      ]
     },
     "metadata": {},
     "output_type": "display_data"
    },
    {
     "name": "stdout",
     "output_type": "stream",
     "text": [
      "\n",
      "--------------------------------------\n",
      "\n",
      "--- Análisis de la columna: ID_ ---\n",
      "Esta columna tiene 43000 valores únicos.\n",
      "\n"
     ]
    },
    {
     "data": {
      "text/plain": [
       "id_\n",
       "089b39d8-e4d0-461b-87d4-814d71e0e079    0.000023\n",
       "c25b5d31-bb7e-41af-898d-42bf3e479351    0.000023\n",
       "bfd6bad9-f23a-445a-838e-10ee90110534    0.000023\n",
       "075b0e72-b5e3-43f4-90cd-29f9090b2b1a    0.000023\n",
       "482a2d86-c9f0-46b7-9f6f-82c769690d48    0.000023\n",
       "                                          ...   \n",
       "27e317a2-722c-454d-850b-97b536029c81    0.000023\n",
       "6d9c117f-af67-4a89-83db-caf514a42374    0.000023\n",
       "6a229b87-6bf9-4339-9639-b98555df71e7    0.000023\n",
       "cc891cf7-206c-47f0-804f-20b5b757d5fc    0.000023\n",
       "993bbbd6-4dbc-4a40-a408-f91f8462bee6    0.000023\n",
       "Name: proportion, Length: 43000, dtype: float64"
      ]
     },
     "metadata": {},
     "output_type": "display_data"
    },
    {
     "data": {
      "text/plain": [
       "count                                    43000\n",
       "unique                                   43000\n",
       "top       089b39d8-e4d0-461b-87d4-814d71e0e079\n",
       "freq                                         1\n",
       "Name: id_, dtype: object"
      ]
     },
     "metadata": {},
     "output_type": "display_data"
    },
    {
     "name": "stdout",
     "output_type": "stream",
     "text": [
      "\n",
      "--------------------------------------\n",
      "\n",
      "📊 **Resumen Estadístico General:**\n"
     ]
    },
    {
     "data": {
      "text/html": [
       "<div>\n",
       "<style scoped>\n",
       "    .dataframe tbody tr th:only-of-type {\n",
       "        vertical-align: middle;\n",
       "    }\n",
       "\n",
       "    .dataframe tbody tr th {\n",
       "        vertical-align: top;\n",
       "    }\n",
       "\n",
       "    .dataframe thead th {\n",
       "        text-align: right;\n",
       "    }\n",
       "</style>\n",
       "<table border=\"1\" class=\"dataframe\">\n",
       "  <thead>\n",
       "    <tr style=\"text-align: right;\">\n",
       "      <th></th>\n",
       "      <th>count</th>\n",
       "      <th>unique</th>\n",
       "      <th>top</th>\n",
       "      <th>freq</th>\n",
       "      <th>mean</th>\n",
       "      <th>std</th>\n",
       "      <th>min</th>\n",
       "      <th>25%</th>\n",
       "      <th>50%</th>\n",
       "      <th>75%</th>\n",
       "      <th>max</th>\n",
       "    </tr>\n",
       "  </thead>\n",
       "  <tbody>\n",
       "    <tr>\n",
       "      <th>age</th>\n",
       "      <td>37880.0</td>\n",
       "      <td>NaN</td>\n",
       "      <td>NaN</td>\n",
       "      <td>NaN</td>\n",
       "      <td>39.977112</td>\n",
       "      <td>10.437957</td>\n",
       "      <td>17.0</td>\n",
       "      <td>32.0</td>\n",
       "      <td>38.0</td>\n",
       "      <td>47.0</td>\n",
       "      <td>98.0</td>\n",
       "    </tr>\n",
       "    <tr>\n",
       "      <th>job</th>\n",
       "      <td>42655</td>\n",
       "      <td>11</td>\n",
       "      <td>admin.</td>\n",
       "      <td>10873</td>\n",
       "      <td>NaN</td>\n",
       "      <td>NaN</td>\n",
       "      <td>NaN</td>\n",
       "      <td>NaN</td>\n",
       "      <td>NaN</td>\n",
       "      <td>NaN</td>\n",
       "      <td>NaN</td>\n",
       "    </tr>\n",
       "    <tr>\n",
       "      <th>marital</th>\n",
       "      <td>42915</td>\n",
       "      <td>3</td>\n",
       "      <td>married</td>\n",
       "      <td>25999</td>\n",
       "      <td>NaN</td>\n",
       "      <td>NaN</td>\n",
       "      <td>NaN</td>\n",
       "      <td>NaN</td>\n",
       "      <td>NaN</td>\n",
       "      <td>NaN</td>\n",
       "      <td>NaN</td>\n",
       "    </tr>\n",
       "    <tr>\n",
       "      <th>education</th>\n",
       "      <td>41193</td>\n",
       "      <td>5</td>\n",
       "      <td>basic</td>\n",
       "      <td>13051</td>\n",
       "      <td>NaN</td>\n",
       "      <td>NaN</td>\n",
       "      <td>NaN</td>\n",
       "      <td>NaN</td>\n",
       "      <td>NaN</td>\n",
       "      <td>NaN</td>\n",
       "      <td>NaN</td>\n",
       "    </tr>\n",
       "    <tr>\n",
       "      <th>default</th>\n",
       "      <td>34019.0</td>\n",
       "      <td>NaN</td>\n",
       "      <td>NaN</td>\n",
       "      <td>NaN</td>\n",
       "      <td>0.000088</td>\n",
       "      <td>0.00939</td>\n",
       "      <td>0.0</td>\n",
       "      <td>0.0</td>\n",
       "      <td>0.0</td>\n",
       "      <td>0.0</td>\n",
       "      <td>1.0</td>\n",
       "    </tr>\n",
       "    <tr>\n",
       "      <th>housing</th>\n",
       "      <td>41974.0</td>\n",
       "      <td>NaN</td>\n",
       "      <td>NaN</td>\n",
       "      <td>NaN</td>\n",
       "      <td>0.535998</td>\n",
       "      <td>0.498708</td>\n",
       "      <td>0.0</td>\n",
       "      <td>0.0</td>\n",
       "      <td>1.0</td>\n",
       "      <td>1.0</td>\n",
       "      <td>1.0</td>\n",
       "    </tr>\n",
       "    <tr>\n",
       "      <th>loan</th>\n",
       "      <td>41974.0</td>\n",
       "      <td>NaN</td>\n",
       "      <td>NaN</td>\n",
       "      <td>NaN</td>\n",
       "      <td>0.15562</td>\n",
       "      <td>0.362499</td>\n",
       "      <td>0.0</td>\n",
       "      <td>0.0</td>\n",
       "      <td>0.0</td>\n",
       "      <td>0.0</td>\n",
       "      <td>1.0</td>\n",
       "    </tr>\n",
       "    <tr>\n",
       "      <th>contact</th>\n",
       "      <td>43000</td>\n",
       "      <td>2</td>\n",
       "      <td>cellular</td>\n",
       "      <td>27396</td>\n",
       "      <td>NaN</td>\n",
       "      <td>NaN</td>\n",
       "      <td>NaN</td>\n",
       "      <td>NaN</td>\n",
       "      <td>NaN</td>\n",
       "      <td>NaN</td>\n",
       "      <td>NaN</td>\n",
       "    </tr>\n",
       "    <tr>\n",
       "      <th>duration</th>\n",
       "      <td>43000.0</td>\n",
       "      <td>NaN</td>\n",
       "      <td>NaN</td>\n",
       "      <td>NaN</td>\n",
       "      <td>257.739279</td>\n",
       "      <td>258.666033</td>\n",
       "      <td>0.0</td>\n",
       "      <td>102.0</td>\n",
       "      <td>179.0</td>\n",
       "      <td>319.0</td>\n",
       "      <td>4918.0</td>\n",
       "    </tr>\n",
       "    <tr>\n",
       "      <th>campaign</th>\n",
       "      <td>43000.0</td>\n",
       "      <td>NaN</td>\n",
       "      <td>NaN</td>\n",
       "      <td>NaN</td>\n",
       "      <td>2.567233</td>\n",
       "      <td>2.772294</td>\n",
       "      <td>1.0</td>\n",
       "      <td>1.0</td>\n",
       "      <td>2.0</td>\n",
       "      <td>3.0</td>\n",
       "      <td>56.0</td>\n",
       "    </tr>\n",
       "    <tr>\n",
       "      <th>pdays</th>\n",
       "      <td>43000.0</td>\n",
       "      <td>NaN</td>\n",
       "      <td>NaN</td>\n",
       "      <td>NaN</td>\n",
       "      <td>962.330953</td>\n",
       "      <td>187.260394</td>\n",
       "      <td>0.0</td>\n",
       "      <td>999.0</td>\n",
       "      <td>999.0</td>\n",
       "      <td>999.0</td>\n",
       "      <td>999.0</td>\n",
       "    </tr>\n",
       "    <tr>\n",
       "      <th>previous</th>\n",
       "      <td>43000.0</td>\n",
       "      <td>NaN</td>\n",
       "      <td>NaN</td>\n",
       "      <td>NaN</td>\n",
       "      <td>0.174023</td>\n",
       "      <td>0.497366</td>\n",
       "      <td>0.0</td>\n",
       "      <td>0.0</td>\n",
       "      <td>0.0</td>\n",
       "      <td>0.0</td>\n",
       "      <td>7.0</td>\n",
       "    </tr>\n",
       "    <tr>\n",
       "      <th>emp_var_rate</th>\n",
       "      <td>43000.0</td>\n",
       "      <td>NaN</td>\n",
       "      <td>NaN</td>\n",
       "      <td>NaN</td>\n",
       "      <td>0.077128</td>\n",
       "      <td>1.573898</td>\n",
       "      <td>-3.4</td>\n",
       "      <td>-1.8</td>\n",
       "      <td>1.1</td>\n",
       "      <td>1.4</td>\n",
       "      <td>1.4</td>\n",
       "    </tr>\n",
       "    <tr>\n",
       "      <th>cons_price_idx</th>\n",
       "      <td>42529.0</td>\n",
       "      <td>NaN</td>\n",
       "      <td>NaN</td>\n",
       "      <td>NaN</td>\n",
       "      <td>85479.697689</td>\n",
       "      <td>26225.07061</td>\n",
       "      <td>932.0</td>\n",
       "      <td>92893.0</td>\n",
       "      <td>93749.0</td>\n",
       "      <td>93994.0</td>\n",
       "      <td>94767.0</td>\n",
       "    </tr>\n",
       "    <tr>\n",
       "      <th>cons_conf_idx</th>\n",
       "      <td>43000.0</td>\n",
       "      <td>NaN</td>\n",
       "      <td>NaN</td>\n",
       "      <td>NaN</td>\n",
       "      <td>-365.581116</td>\n",
       "      <td>119.314297</td>\n",
       "      <td>-508.0</td>\n",
       "      <td>-427.0</td>\n",
       "      <td>-403.0</td>\n",
       "      <td>-361.0</td>\n",
       "      <td>-33.0</td>\n",
       "    </tr>\n",
       "    <tr>\n",
       "      <th>euribor3m</th>\n",
       "      <td>33744.0</td>\n",
       "      <td>NaN</td>\n",
       "      <td>NaN</td>\n",
       "      <td>NaN</td>\n",
       "      <td>3282.850492</td>\n",
       "      <td>1934.951108</td>\n",
       "      <td>1.0</td>\n",
       "      <td>1281.0</td>\n",
       "      <td>4856.0</td>\n",
       "      <td>4961.0</td>\n",
       "      <td>5045.0</td>\n",
       "    </tr>\n",
       "    <tr>\n",
       "      <th>nr_employed</th>\n",
       "      <td>43000.0</td>\n",
       "      <td>NaN</td>\n",
       "      <td>NaN</td>\n",
       "      <td>NaN</td>\n",
       "      <td>42954.889279</td>\n",
       "      <td>18096.647138</td>\n",
       "      <td>5191.0</td>\n",
       "      <td>50175.0</td>\n",
       "      <td>50991.0</td>\n",
       "      <td>52281.0</td>\n",
       "      <td>52281.0</td>\n",
       "    </tr>\n",
       "    <tr>\n",
       "      <th>y</th>\n",
       "      <td>43000</td>\n",
       "      <td>2</td>\n",
       "      <td>no</td>\n",
       "      <td>38156</td>\n",
       "      <td>NaN</td>\n",
       "      <td>NaN</td>\n",
       "      <td>NaN</td>\n",
       "      <td>NaN</td>\n",
       "      <td>NaN</td>\n",
       "      <td>NaN</td>\n",
       "      <td>NaN</td>\n",
       "    </tr>\n",
       "    <tr>\n",
       "      <th>id_</th>\n",
       "      <td>43000</td>\n",
       "      <td>43000</td>\n",
       "      <td>089b39d8-e4d0-461b-87d4-814d71e0e079</td>\n",
       "      <td>1</td>\n",
       "      <td>NaN</td>\n",
       "      <td>NaN</td>\n",
       "      <td>NaN</td>\n",
       "      <td>NaN</td>\n",
       "      <td>NaN</td>\n",
       "      <td>NaN</td>\n",
       "      <td>NaN</td>\n",
       "    </tr>\n",
       "    <tr>\n",
       "      <th>year</th>\n",
       "      <td>43000.0</td>\n",
       "      <td>NaN</td>\n",
       "      <td>NaN</td>\n",
       "      <td>NaN</td>\n",
       "      <td>2005.368372</td>\n",
       "      <td>152.744417</td>\n",
       "      <td>0.0</td>\n",
       "      <td>2016.0</td>\n",
       "      <td>2017.0</td>\n",
       "      <td>2018.0</td>\n",
       "      <td>2019.0</td>\n",
       "    </tr>\n",
       "    <tr>\n",
       "      <th>month</th>\n",
       "      <td>43000.0</td>\n",
       "      <td>NaN</td>\n",
       "      <td>NaN</td>\n",
       "      <td>NaN</td>\n",
       "      <td>6.464558</td>\n",
       "      <td>3.473829</td>\n",
       "      <td>0.0</td>\n",
       "      <td>3.0</td>\n",
       "      <td>6.0</td>\n",
       "      <td>9.0</td>\n",
       "      <td>12.0</td>\n",
       "    </tr>\n",
       "    <tr>\n",
       "      <th>day</th>\n",
       "      <td>43000.0</td>\n",
       "      <td>NaN</td>\n",
       "      <td>NaN</td>\n",
       "      <td>NaN</td>\n",
       "      <td>15.930442</td>\n",
       "      <td>8.9794</td>\n",
       "      <td>0.0</td>\n",
       "      <td>8.0</td>\n",
       "      <td>16.0</td>\n",
       "      <td>24.0</td>\n",
       "      <td>31.0</td>\n",
       "    </tr>\n",
       "  </tbody>\n",
       "</table>\n",
       "</div>"
      ],
      "text/plain": [
       "                  count unique                                   top   freq  \\\n",
       "age             37880.0    NaN                                   NaN    NaN   \n",
       "job               42655     11                                admin.  10873   \n",
       "marital           42915      3                               married  25999   \n",
       "education         41193      5                                 basic  13051   \n",
       "default         34019.0    NaN                                   NaN    NaN   \n",
       "housing         41974.0    NaN                                   NaN    NaN   \n",
       "loan            41974.0    NaN                                   NaN    NaN   \n",
       "contact           43000      2                              cellular  27396   \n",
       "duration        43000.0    NaN                                   NaN    NaN   \n",
       "campaign        43000.0    NaN                                   NaN    NaN   \n",
       "pdays           43000.0    NaN                                   NaN    NaN   \n",
       "previous        43000.0    NaN                                   NaN    NaN   \n",
       "emp_var_rate    43000.0    NaN                                   NaN    NaN   \n",
       "cons_price_idx  42529.0    NaN                                   NaN    NaN   \n",
       "cons_conf_idx   43000.0    NaN                                   NaN    NaN   \n",
       "euribor3m       33744.0    NaN                                   NaN    NaN   \n",
       "nr_employed     43000.0    NaN                                   NaN    NaN   \n",
       "y                 43000      2                                    no  38156   \n",
       "id_               43000  43000  089b39d8-e4d0-461b-87d4-814d71e0e079      1   \n",
       "year            43000.0    NaN                                   NaN    NaN   \n",
       "month           43000.0    NaN                                   NaN    NaN   \n",
       "day             43000.0    NaN                                   NaN    NaN   \n",
       "\n",
       "                        mean           std     min      25%      50%      75%  \\\n",
       "age                39.977112     10.437957    17.0     32.0     38.0     47.0   \n",
       "job                      NaN           NaN     NaN      NaN      NaN      NaN   \n",
       "marital                  NaN           NaN     NaN      NaN      NaN      NaN   \n",
       "education                NaN           NaN     NaN      NaN      NaN      NaN   \n",
       "default             0.000088       0.00939     0.0      0.0      0.0      0.0   \n",
       "housing             0.535998      0.498708     0.0      0.0      1.0      1.0   \n",
       "loan                 0.15562      0.362499     0.0      0.0      0.0      0.0   \n",
       "contact                  NaN           NaN     NaN      NaN      NaN      NaN   \n",
       "duration          257.739279    258.666033     0.0    102.0    179.0    319.0   \n",
       "campaign            2.567233      2.772294     1.0      1.0      2.0      3.0   \n",
       "pdays             962.330953    187.260394     0.0    999.0    999.0    999.0   \n",
       "previous            0.174023      0.497366     0.0      0.0      0.0      0.0   \n",
       "emp_var_rate        0.077128      1.573898    -3.4     -1.8      1.1      1.4   \n",
       "cons_price_idx  85479.697689   26225.07061   932.0  92893.0  93749.0  93994.0   \n",
       "cons_conf_idx    -365.581116    119.314297  -508.0   -427.0   -403.0   -361.0   \n",
       "euribor3m        3282.850492   1934.951108     1.0   1281.0   4856.0   4961.0   \n",
       "nr_employed     42954.889279  18096.647138  5191.0  50175.0  50991.0  52281.0   \n",
       "y                        NaN           NaN     NaN      NaN      NaN      NaN   \n",
       "id_                      NaN           NaN     NaN      NaN      NaN      NaN   \n",
       "year             2005.368372    152.744417     0.0   2016.0   2017.0   2018.0   \n",
       "month               6.464558      3.473829     0.0      3.0      6.0      9.0   \n",
       "day                15.930442        8.9794     0.0      8.0     16.0     24.0   \n",
       "\n",
       "                    max  \n",
       "age                98.0  \n",
       "job                 NaN  \n",
       "marital             NaN  \n",
       "education           NaN  \n",
       "default             1.0  \n",
       "housing             1.0  \n",
       "loan                1.0  \n",
       "contact             NaN  \n",
       "duration         4918.0  \n",
       "campaign           56.0  \n",
       "pdays             999.0  \n",
       "previous            7.0  \n",
       "emp_var_rate        1.4  \n",
       "cons_price_idx  94767.0  \n",
       "cons_conf_idx     -33.0  \n",
       "euribor3m        5045.0  \n",
       "nr_employed     52281.0  \n",
       "y                   NaN  \n",
       "id_                 NaN  \n",
       "year             2019.0  \n",
       "month              12.0  \n",
       "day                31.0  "
      ]
     },
     "metadata": {},
     "output_type": "display_data"
    }
   ],
   "source": [
    "analisis_general_cat(df_limpio)\n"
   ]
  },
  {
   "cell_type": "code",
   "execution_count": 11,
   "metadata": {},
   "outputs": [
    {
     "name": "stdout",
     "output_type": "stream",
     "text": [
      "Index(['age', 'job', 'marital', 'education', 'default', 'housing', 'loan',\n",
      "       'contact', 'duration', 'campaign', 'pdays', 'previous', 'emp_var_rate',\n",
      "       'cons_price_idx', 'cons_conf_idx', 'euribor3m', 'nr_employed', 'y',\n",
      "       'id_', 'year', 'month', 'day'],\n",
      "      dtype='object')\n"
     ]
    }
   ],
   "source": [
    "print(df_limpio.columns)  # Verifica las columnas disponibles\n"
   ]
  },
  {
   "cell_type": "code",
   "execution_count": 12,
   "metadata": {},
   "outputs": [],
   "source": [
    "df_limpio = rellenar_nulos_categoricas(df_limpio, ['job', 'marital', 'education'])\n"
   ]
  },
  {
   "cell_type": "code",
   "execution_count": 13,
   "metadata": {},
   "outputs": [
    {
     "name": "stdout",
     "output_type": "stream",
     "text": [
      "job          0\n",
      "marital      0\n",
      "education    0\n",
      "dtype: int64\n"
     ]
    }
   ],
   "source": [
    "print(df_limpio[['job', 'marital', 'education']].isnull().sum())  # Debería mostrar todo en 0\n"
   ]
  },
  {
   "cell_type": "code",
   "execution_count": null,
   "metadata": {},
   "outputs": [],
   "source": [
    "# poutcome tiene un porcentaje muy alto de nulos (86%), vamos a hacer un grafico para ver relacionar con \"Y\" y ver si la mantenemos o eliminamos.\n",
    "# Creamos una tabla de frecuencias cruzadas\n",
    "tabla_frecuencia = pd.crosstab(df_limpio['poutcome'], df_limpio['y'], normalize='index')\n",
    "print(tabla_frecuencia)\n",
    "\n",
    "# Creamos una gráfica para visualizar la relación\n",
    "plt.figure(figsize=(8,5))\n",
    "sns.barplot(x=tabla_frecuencia.index, y=tabla_frecuencia['yes'], color='royalblue', label='Sí (y = 1)')\n",
    "sns.barplot(x=tabla_frecuencia.index, y=tabla_frecuencia['no'], color='lightgrey', label='No (y = 0)')\n",
    "plt.legend()\n",
    "plt.title(\"Relación entre `poutcome` y `y`\")\n",
    "plt.xlabel(\"poutcome\")\n",
    "plt.ylabel(\"Proporción de `y`\")\n",
    "plt.xticks(rotation=45)\n",
    "plt.show()"
   ]
  },
  {
   "cell_type": "code",
   "execution_count": 15,
   "metadata": {},
   "outputs": [],
   "source": [
    "df_limpio.drop(columns=['poutcome'], inplace=True, errors='ignore')"
   ]
  },
  {
   "cell_type": "code",
   "execution_count": 16,
   "metadata": {},
   "outputs": [],
   "source": [
    "df_limpio.to_csv(\"../data/bank_limpio.csv\", index=False)\n"
   ]
  },
  {
   "cell_type": "code",
   "execution_count": 17,
   "metadata": {},
   "outputs": [
    {
     "name": "stdout",
     "output_type": "stream",
     "text": [
      "Columnas después de eliminar 'poutcome': Index(['age', 'job', 'marital', 'education', 'default', 'housing', 'loan',\n",
      "       'contact', 'duration', 'campaign', 'pdays', 'previous', 'emp_var_rate',\n",
      "       'cons_price_idx', 'cons_conf_idx', 'euribor3m', 'nr_employed', 'y',\n",
      "       'id_', 'year', 'month', 'day'],\n",
      "      dtype='object')\n"
     ]
    },
    {
     "data": {
      "text/html": [
       "<div>\n",
       "<style scoped>\n",
       "    .dataframe tbody tr th:only-of-type {\n",
       "        vertical-align: middle;\n",
       "    }\n",
       "\n",
       "    .dataframe tbody tr th {\n",
       "        vertical-align: top;\n",
       "    }\n",
       "\n",
       "    .dataframe thead th {\n",
       "        text-align: right;\n",
       "    }\n",
       "</style>\n",
       "<table border=\"1\" class=\"dataframe\">\n",
       "  <thead>\n",
       "    <tr style=\"text-align: right;\">\n",
       "      <th></th>\n",
       "      <th>age</th>\n",
       "      <th>job</th>\n",
       "      <th>marital</th>\n",
       "      <th>education</th>\n",
       "      <th>default</th>\n",
       "      <th>housing</th>\n",
       "      <th>loan</th>\n",
       "      <th>contact</th>\n",
       "      <th>duration</th>\n",
       "      <th>campaign</th>\n",
       "      <th>pdays</th>\n",
       "      <th>previous</th>\n",
       "      <th>emp_var_rate</th>\n",
       "      <th>cons_price_idx</th>\n",
       "      <th>cons_conf_idx</th>\n",
       "      <th>euribor3m</th>\n",
       "      <th>nr_employed</th>\n",
       "      <th>y</th>\n",
       "      <th>id_</th>\n",
       "      <th>year</th>\n",
       "      <th>month</th>\n",
       "      <th>day</th>\n",
       "    </tr>\n",
       "  </thead>\n",
       "  <tbody>\n",
       "    <tr>\n",
       "      <th>0</th>\n",
       "      <td>NaN</td>\n",
       "      <td>housemaid</td>\n",
       "      <td>married</td>\n",
       "      <td>basic</td>\n",
       "      <td>0.0</td>\n",
       "      <td>0.0</td>\n",
       "      <td>0.0</td>\n",
       "      <td>telephone</td>\n",
       "      <td>261</td>\n",
       "      <td>1</td>\n",
       "      <td>999</td>\n",
       "      <td>0</td>\n",
       "      <td>1.1</td>\n",
       "      <td>93994.0</td>\n",
       "      <td>-364.0</td>\n",
       "      <td>4857.0</td>\n",
       "      <td>5191.0</td>\n",
       "      <td>no</td>\n",
       "      <td>089b39d8-e4d0-461b-87d4-814d71e0e079</td>\n",
       "      <td>2019</td>\n",
       "      <td>8</td>\n",
       "      <td>2</td>\n",
       "    </tr>\n",
       "    <tr>\n",
       "      <th>1</th>\n",
       "      <td>57.0</td>\n",
       "      <td>services</td>\n",
       "      <td>married</td>\n",
       "      <td>high.school</td>\n",
       "      <td>NaN</td>\n",
       "      <td>0.0</td>\n",
       "      <td>0.0</td>\n",
       "      <td>telephone</td>\n",
       "      <td>149</td>\n",
       "      <td>1</td>\n",
       "      <td>999</td>\n",
       "      <td>0</td>\n",
       "      <td>1.1</td>\n",
       "      <td>93994.0</td>\n",
       "      <td>-364.0</td>\n",
       "      <td>NaN</td>\n",
       "      <td>5191.0</td>\n",
       "      <td>no</td>\n",
       "      <td>e9d37224-cb6f-4942-98d7-46672963d097</td>\n",
       "      <td>2016</td>\n",
       "      <td>9</td>\n",
       "      <td>14</td>\n",
       "    </tr>\n",
       "    <tr>\n",
       "      <th>2</th>\n",
       "      <td>37.0</td>\n",
       "      <td>services</td>\n",
       "      <td>married</td>\n",
       "      <td>high.school</td>\n",
       "      <td>0.0</td>\n",
       "      <td>1.0</td>\n",
       "      <td>0.0</td>\n",
       "      <td>telephone</td>\n",
       "      <td>226</td>\n",
       "      <td>1</td>\n",
       "      <td>999</td>\n",
       "      <td>0</td>\n",
       "      <td>1.1</td>\n",
       "      <td>93994.0</td>\n",
       "      <td>-364.0</td>\n",
       "      <td>4857.0</td>\n",
       "      <td>5191.0</td>\n",
       "      <td>no</td>\n",
       "      <td>3f9f49b5-e410-4948-bf6e-f9244f04918b</td>\n",
       "      <td>2019</td>\n",
       "      <td>2</td>\n",
       "      <td>15</td>\n",
       "    </tr>\n",
       "    <tr>\n",
       "      <th>3</th>\n",
       "      <td>40.0</td>\n",
       "      <td>admin.</td>\n",
       "      <td>married</td>\n",
       "      <td>basic</td>\n",
       "      <td>0.0</td>\n",
       "      <td>0.0</td>\n",
       "      <td>0.0</td>\n",
       "      <td>telephone</td>\n",
       "      <td>151</td>\n",
       "      <td>1</td>\n",
       "      <td>999</td>\n",
       "      <td>0</td>\n",
       "      <td>1.1</td>\n",
       "      <td>93994.0</td>\n",
       "      <td>-364.0</td>\n",
       "      <td>NaN</td>\n",
       "      <td>5191.0</td>\n",
       "      <td>no</td>\n",
       "      <td>9991fafb-4447-451a-8be2-b0df6098d13e</td>\n",
       "      <td>2015</td>\n",
       "      <td>11</td>\n",
       "      <td>29</td>\n",
       "    </tr>\n",
       "    <tr>\n",
       "      <th>4</th>\n",
       "      <td>56.0</td>\n",
       "      <td>services</td>\n",
       "      <td>married</td>\n",
       "      <td>high.school</td>\n",
       "      <td>0.0</td>\n",
       "      <td>0.0</td>\n",
       "      <td>1.0</td>\n",
       "      <td>telephone</td>\n",
       "      <td>307</td>\n",
       "      <td>1</td>\n",
       "      <td>999</td>\n",
       "      <td>0</td>\n",
       "      <td>1.1</td>\n",
       "      <td>93994.0</td>\n",
       "      <td>-364.0</td>\n",
       "      <td>NaN</td>\n",
       "      <td>5191.0</td>\n",
       "      <td>no</td>\n",
       "      <td>eca60b76-70b6-4077-80ba-bc52e8ebb0eb</td>\n",
       "      <td>2017</td>\n",
       "      <td>1</td>\n",
       "      <td>29</td>\n",
       "    </tr>\n",
       "  </tbody>\n",
       "</table>\n",
       "</div>"
      ],
      "text/plain": [
       "    age        job  marital    education  default  housing  loan    contact  \\\n",
       "0   NaN  housemaid  married        basic      0.0      0.0   0.0  telephone   \n",
       "1  57.0   services  married  high.school      NaN      0.0   0.0  telephone   \n",
       "2  37.0   services  married  high.school      0.0      1.0   0.0  telephone   \n",
       "3  40.0     admin.  married        basic      0.0      0.0   0.0  telephone   \n",
       "4  56.0   services  married  high.school      0.0      0.0   1.0  telephone   \n",
       "\n",
       "   duration  campaign  pdays  previous  emp_var_rate  cons_price_idx  \\\n",
       "0       261         1    999         0           1.1         93994.0   \n",
       "1       149         1    999         0           1.1         93994.0   \n",
       "2       226         1    999         0           1.1         93994.0   \n",
       "3       151         1    999         0           1.1         93994.0   \n",
       "4       307         1    999         0           1.1         93994.0   \n",
       "\n",
       "   cons_conf_idx  euribor3m  nr_employed   y  \\\n",
       "0         -364.0     4857.0       5191.0  no   \n",
       "1         -364.0        NaN       5191.0  no   \n",
       "2         -364.0     4857.0       5191.0  no   \n",
       "3         -364.0        NaN       5191.0  no   \n",
       "4         -364.0        NaN       5191.0  no   \n",
       "\n",
       "                                    id_  year  month  day  \n",
       "0  089b39d8-e4d0-461b-87d4-814d71e0e079  2019      8    2  \n",
       "1  e9d37224-cb6f-4942-98d7-46672963d097  2016      9   14  \n",
       "2  3f9f49b5-e410-4948-bf6e-f9244f04918b  2019      2   15  \n",
       "3  9991fafb-4447-451a-8be2-b0df6098d13e  2015     11   29  \n",
       "4  eca60b76-70b6-4077-80ba-bc52e8ebb0eb  2017      1   29  "
      ]
     },
     "execution_count": 17,
     "metadata": {},
     "output_type": "execute_result"
    }
   ],
   "source": [
    "print(\"Columnas después de eliminar 'poutcome':\", df_limpio.columns)\n",
    "\n",
    "# Revisar las primeras filas para verificar que todo está correcto\n",
    "df_limpio.head()\n"
   ]
  },
  {
   "cell_type": "code",
   "execution_count": 18,
   "metadata": {},
   "outputs": [],
   "source": [
    "# Sobreescribimos el archivo existente en lugar de crear uno nuevo\n",
    "df_limpio.to_csv(\"../data/bank_limpio.csv\", index=False)\n"
   ]
  },
  {
   "cell_type": "code",
   "execution_count": 19,
   "metadata": {},
   "outputs": [
    {
     "name": "stdout",
     "output_type": "stream",
     "text": [
      "\n",
      "--- Análisis de la columna: JOB ---\n",
      "Esta columna tiene 12 valores únicos.\n",
      "\n"
     ]
    },
    {
     "data": {
      "text/plain": [
       "job\n",
       "admin.           0.252860\n",
       "blue-collar      0.224512\n",
       "technician       0.163395\n",
       "services         0.096791\n",
       "management       0.070930\n",
       "retired          0.041628\n",
       "entrepreneur     0.035395\n",
       "self-employed    0.034628\n",
       "housemaid        0.026116\n",
       "unemployed       0.024721\n",
       "student          0.021000\n",
       "unknown          0.008023\n",
       "Name: proportion, dtype: float64"
      ]
     },
     "metadata": {},
     "output_type": "display_data"
    },
    {
     "data": {
      "text/plain": [
       "count      43000\n",
       "unique        12\n",
       "top       admin.\n",
       "freq       10873\n",
       "Name: job, dtype: object"
      ]
     },
     "metadata": {},
     "output_type": "display_data"
    },
    {
     "name": "stdout",
     "output_type": "stream",
     "text": [
      "\n",
      "--------------------------------------\n",
      "\n",
      "--- Análisis de la columna: MARITAL ---\n",
      "Esta columna tiene 4 valores únicos.\n",
      "\n"
     ]
    },
    {
     "data": {
      "text/plain": [
       "marital\n",
       "married     0.604628\n",
       "single      0.281512\n",
       "divorced    0.111884\n",
       "unknown     0.001977\n",
       "Name: proportion, dtype: float64"
      ]
     },
     "metadata": {},
     "output_type": "display_data"
    },
    {
     "data": {
      "text/plain": [
       "count       43000\n",
       "unique          4\n",
       "top       married\n",
       "freq        25999\n",
       "Name: marital, dtype: object"
      ]
     },
     "metadata": {},
     "output_type": "display_data"
    },
    {
     "name": "stdout",
     "output_type": "stream",
     "text": [
      "\n",
      "--------------------------------------\n",
      "\n",
      "--- Análisis de la columna: EDUCATION ---\n",
      "Esta columna tiene 6 valores únicos.\n",
      "\n"
     ]
    },
    {
     "data": {
      "text/plain": [
       "education\n",
       "basic                  0.303512\n",
       "university.degree      0.295860\n",
       "high.school            0.230814\n",
       "professional.course    0.127372\n",
       "unknown                0.042023\n",
       "illiterate             0.000419\n",
       "Name: proportion, dtype: float64"
      ]
     },
     "metadata": {},
     "output_type": "display_data"
    },
    {
     "data": {
      "text/plain": [
       "count     43000\n",
       "unique        6\n",
       "top       basic\n",
       "freq      13051\n",
       "Name: education, dtype: object"
      ]
     },
     "metadata": {},
     "output_type": "display_data"
    },
    {
     "name": "stdout",
     "output_type": "stream",
     "text": [
      "\n",
      "--------------------------------------\n",
      "\n",
      "--- Análisis de la columna: CONTACT ---\n",
      "Esta columna tiene 2 valores únicos.\n",
      "\n"
     ]
    },
    {
     "data": {
      "text/plain": [
       "contact\n",
       "cellular     0.637116\n",
       "telephone    0.362884\n",
       "Name: proportion, dtype: float64"
      ]
     },
     "metadata": {},
     "output_type": "display_data"
    },
    {
     "data": {
      "text/plain": [
       "count        43000\n",
       "unique           2\n",
       "top       cellular\n",
       "freq         27396\n",
       "Name: contact, dtype: object"
      ]
     },
     "metadata": {},
     "output_type": "display_data"
    },
    {
     "name": "stdout",
     "output_type": "stream",
     "text": [
      "\n",
      "--------------------------------------\n",
      "\n",
      "--- Análisis de la columna: Y ---\n",
      "Esta columna tiene 2 valores únicos.\n",
      "\n"
     ]
    },
    {
     "data": {
      "text/plain": [
       "y\n",
       "no     0.887349\n",
       "yes    0.112651\n",
       "Name: proportion, dtype: float64"
      ]
     },
     "metadata": {},
     "output_type": "display_data"
    },
    {
     "data": {
      "text/plain": [
       "count     43000\n",
       "unique        2\n",
       "top          no\n",
       "freq      38156\n",
       "Name: y, dtype: object"
      ]
     },
     "metadata": {},
     "output_type": "display_data"
    },
    {
     "name": "stdout",
     "output_type": "stream",
     "text": [
      "\n",
      "--------------------------------------\n",
      "\n",
      "--- Análisis de la columna: ID_ ---\n",
      "Esta columna tiene 43000 valores únicos.\n",
      "\n"
     ]
    },
    {
     "data": {
      "text/plain": [
       "id_\n",
       "089b39d8-e4d0-461b-87d4-814d71e0e079    0.000023\n",
       "c25b5d31-bb7e-41af-898d-42bf3e479351    0.000023\n",
       "bfd6bad9-f23a-445a-838e-10ee90110534    0.000023\n",
       "075b0e72-b5e3-43f4-90cd-29f9090b2b1a    0.000023\n",
       "482a2d86-c9f0-46b7-9f6f-82c769690d48    0.000023\n",
       "                                          ...   \n",
       "27e317a2-722c-454d-850b-97b536029c81    0.000023\n",
       "6d9c117f-af67-4a89-83db-caf514a42374    0.000023\n",
       "6a229b87-6bf9-4339-9639-b98555df71e7    0.000023\n",
       "cc891cf7-206c-47f0-804f-20b5b757d5fc    0.000023\n",
       "993bbbd6-4dbc-4a40-a408-f91f8462bee6    0.000023\n",
       "Name: proportion, Length: 43000, dtype: float64"
      ]
     },
     "metadata": {},
     "output_type": "display_data"
    },
    {
     "data": {
      "text/plain": [
       "count                                    43000\n",
       "unique                                   43000\n",
       "top       089b39d8-e4d0-461b-87d4-814d71e0e079\n",
       "freq                                         1\n",
       "Name: id_, dtype: object"
      ]
     },
     "metadata": {},
     "output_type": "display_data"
    },
    {
     "name": "stdout",
     "output_type": "stream",
     "text": [
      "\n",
      "--------------------------------------\n",
      "\n",
      "📊 **Resumen Estadístico General:**\n"
     ]
    },
    {
     "data": {
      "text/html": [
       "<div>\n",
       "<style scoped>\n",
       "    .dataframe tbody tr th:only-of-type {\n",
       "        vertical-align: middle;\n",
       "    }\n",
       "\n",
       "    .dataframe tbody tr th {\n",
       "        vertical-align: top;\n",
       "    }\n",
       "\n",
       "    .dataframe thead th {\n",
       "        text-align: right;\n",
       "    }\n",
       "</style>\n",
       "<table border=\"1\" class=\"dataframe\">\n",
       "  <thead>\n",
       "    <tr style=\"text-align: right;\">\n",
       "      <th></th>\n",
       "      <th>count</th>\n",
       "      <th>unique</th>\n",
       "      <th>top</th>\n",
       "      <th>freq</th>\n",
       "      <th>mean</th>\n",
       "      <th>std</th>\n",
       "      <th>min</th>\n",
       "      <th>25%</th>\n",
       "      <th>50%</th>\n",
       "      <th>75%</th>\n",
       "      <th>max</th>\n",
       "    </tr>\n",
       "  </thead>\n",
       "  <tbody>\n",
       "    <tr>\n",
       "      <th>age</th>\n",
       "      <td>37880.0</td>\n",
       "      <td>NaN</td>\n",
       "      <td>NaN</td>\n",
       "      <td>NaN</td>\n",
       "      <td>39.977112</td>\n",
       "      <td>10.437957</td>\n",
       "      <td>17.0</td>\n",
       "      <td>32.0</td>\n",
       "      <td>38.0</td>\n",
       "      <td>47.0</td>\n",
       "      <td>98.0</td>\n",
       "    </tr>\n",
       "    <tr>\n",
       "      <th>job</th>\n",
       "      <td>43000</td>\n",
       "      <td>12</td>\n",
       "      <td>admin.</td>\n",
       "      <td>10873</td>\n",
       "      <td>NaN</td>\n",
       "      <td>NaN</td>\n",
       "      <td>NaN</td>\n",
       "      <td>NaN</td>\n",
       "      <td>NaN</td>\n",
       "      <td>NaN</td>\n",
       "      <td>NaN</td>\n",
       "    </tr>\n",
       "    <tr>\n",
       "      <th>marital</th>\n",
       "      <td>43000</td>\n",
       "      <td>4</td>\n",
       "      <td>married</td>\n",
       "      <td>25999</td>\n",
       "      <td>NaN</td>\n",
       "      <td>NaN</td>\n",
       "      <td>NaN</td>\n",
       "      <td>NaN</td>\n",
       "      <td>NaN</td>\n",
       "      <td>NaN</td>\n",
       "      <td>NaN</td>\n",
       "    </tr>\n",
       "    <tr>\n",
       "      <th>education</th>\n",
       "      <td>43000</td>\n",
       "      <td>6</td>\n",
       "      <td>basic</td>\n",
       "      <td>13051</td>\n",
       "      <td>NaN</td>\n",
       "      <td>NaN</td>\n",
       "      <td>NaN</td>\n",
       "      <td>NaN</td>\n",
       "      <td>NaN</td>\n",
       "      <td>NaN</td>\n",
       "      <td>NaN</td>\n",
       "    </tr>\n",
       "    <tr>\n",
       "      <th>default</th>\n",
       "      <td>34019.0</td>\n",
       "      <td>NaN</td>\n",
       "      <td>NaN</td>\n",
       "      <td>NaN</td>\n",
       "      <td>0.000088</td>\n",
       "      <td>0.00939</td>\n",
       "      <td>0.0</td>\n",
       "      <td>0.0</td>\n",
       "      <td>0.0</td>\n",
       "      <td>0.0</td>\n",
       "      <td>1.0</td>\n",
       "    </tr>\n",
       "    <tr>\n",
       "      <th>housing</th>\n",
       "      <td>41974.0</td>\n",
       "      <td>NaN</td>\n",
       "      <td>NaN</td>\n",
       "      <td>NaN</td>\n",
       "      <td>0.535998</td>\n",
       "      <td>0.498708</td>\n",
       "      <td>0.0</td>\n",
       "      <td>0.0</td>\n",
       "      <td>1.0</td>\n",
       "      <td>1.0</td>\n",
       "      <td>1.0</td>\n",
       "    </tr>\n",
       "    <tr>\n",
       "      <th>loan</th>\n",
       "      <td>41974.0</td>\n",
       "      <td>NaN</td>\n",
       "      <td>NaN</td>\n",
       "      <td>NaN</td>\n",
       "      <td>0.15562</td>\n",
       "      <td>0.362499</td>\n",
       "      <td>0.0</td>\n",
       "      <td>0.0</td>\n",
       "      <td>0.0</td>\n",
       "      <td>0.0</td>\n",
       "      <td>1.0</td>\n",
       "    </tr>\n",
       "    <tr>\n",
       "      <th>contact</th>\n",
       "      <td>43000</td>\n",
       "      <td>2</td>\n",
       "      <td>cellular</td>\n",
       "      <td>27396</td>\n",
       "      <td>NaN</td>\n",
       "      <td>NaN</td>\n",
       "      <td>NaN</td>\n",
       "      <td>NaN</td>\n",
       "      <td>NaN</td>\n",
       "      <td>NaN</td>\n",
       "      <td>NaN</td>\n",
       "    </tr>\n",
       "    <tr>\n",
       "      <th>duration</th>\n",
       "      <td>43000.0</td>\n",
       "      <td>NaN</td>\n",
       "      <td>NaN</td>\n",
       "      <td>NaN</td>\n",
       "      <td>257.739279</td>\n",
       "      <td>258.666033</td>\n",
       "      <td>0.0</td>\n",
       "      <td>102.0</td>\n",
       "      <td>179.0</td>\n",
       "      <td>319.0</td>\n",
       "      <td>4918.0</td>\n",
       "    </tr>\n",
       "    <tr>\n",
       "      <th>campaign</th>\n",
       "      <td>43000.0</td>\n",
       "      <td>NaN</td>\n",
       "      <td>NaN</td>\n",
       "      <td>NaN</td>\n",
       "      <td>2.567233</td>\n",
       "      <td>2.772294</td>\n",
       "      <td>1.0</td>\n",
       "      <td>1.0</td>\n",
       "      <td>2.0</td>\n",
       "      <td>3.0</td>\n",
       "      <td>56.0</td>\n",
       "    </tr>\n",
       "    <tr>\n",
       "      <th>pdays</th>\n",
       "      <td>43000.0</td>\n",
       "      <td>NaN</td>\n",
       "      <td>NaN</td>\n",
       "      <td>NaN</td>\n",
       "      <td>962.330953</td>\n",
       "      <td>187.260394</td>\n",
       "      <td>0.0</td>\n",
       "      <td>999.0</td>\n",
       "      <td>999.0</td>\n",
       "      <td>999.0</td>\n",
       "      <td>999.0</td>\n",
       "    </tr>\n",
       "    <tr>\n",
       "      <th>previous</th>\n",
       "      <td>43000.0</td>\n",
       "      <td>NaN</td>\n",
       "      <td>NaN</td>\n",
       "      <td>NaN</td>\n",
       "      <td>0.174023</td>\n",
       "      <td>0.497366</td>\n",
       "      <td>0.0</td>\n",
       "      <td>0.0</td>\n",
       "      <td>0.0</td>\n",
       "      <td>0.0</td>\n",
       "      <td>7.0</td>\n",
       "    </tr>\n",
       "    <tr>\n",
       "      <th>emp_var_rate</th>\n",
       "      <td>43000.0</td>\n",
       "      <td>NaN</td>\n",
       "      <td>NaN</td>\n",
       "      <td>NaN</td>\n",
       "      <td>0.077128</td>\n",
       "      <td>1.573898</td>\n",
       "      <td>-3.4</td>\n",
       "      <td>-1.8</td>\n",
       "      <td>1.1</td>\n",
       "      <td>1.4</td>\n",
       "      <td>1.4</td>\n",
       "    </tr>\n",
       "    <tr>\n",
       "      <th>cons_price_idx</th>\n",
       "      <td>42529.0</td>\n",
       "      <td>NaN</td>\n",
       "      <td>NaN</td>\n",
       "      <td>NaN</td>\n",
       "      <td>85479.697689</td>\n",
       "      <td>26225.07061</td>\n",
       "      <td>932.0</td>\n",
       "      <td>92893.0</td>\n",
       "      <td>93749.0</td>\n",
       "      <td>93994.0</td>\n",
       "      <td>94767.0</td>\n",
       "    </tr>\n",
       "    <tr>\n",
       "      <th>cons_conf_idx</th>\n",
       "      <td>43000.0</td>\n",
       "      <td>NaN</td>\n",
       "      <td>NaN</td>\n",
       "      <td>NaN</td>\n",
       "      <td>-365.581116</td>\n",
       "      <td>119.314297</td>\n",
       "      <td>-508.0</td>\n",
       "      <td>-427.0</td>\n",
       "      <td>-403.0</td>\n",
       "      <td>-361.0</td>\n",
       "      <td>-33.0</td>\n",
       "    </tr>\n",
       "    <tr>\n",
       "      <th>euribor3m</th>\n",
       "      <td>33744.0</td>\n",
       "      <td>NaN</td>\n",
       "      <td>NaN</td>\n",
       "      <td>NaN</td>\n",
       "      <td>3282.850492</td>\n",
       "      <td>1934.951108</td>\n",
       "      <td>1.0</td>\n",
       "      <td>1281.0</td>\n",
       "      <td>4856.0</td>\n",
       "      <td>4961.0</td>\n",
       "      <td>5045.0</td>\n",
       "    </tr>\n",
       "    <tr>\n",
       "      <th>nr_employed</th>\n",
       "      <td>43000.0</td>\n",
       "      <td>NaN</td>\n",
       "      <td>NaN</td>\n",
       "      <td>NaN</td>\n",
       "      <td>42954.889279</td>\n",
       "      <td>18096.647138</td>\n",
       "      <td>5191.0</td>\n",
       "      <td>50175.0</td>\n",
       "      <td>50991.0</td>\n",
       "      <td>52281.0</td>\n",
       "      <td>52281.0</td>\n",
       "    </tr>\n",
       "    <tr>\n",
       "      <th>y</th>\n",
       "      <td>43000</td>\n",
       "      <td>2</td>\n",
       "      <td>no</td>\n",
       "      <td>38156</td>\n",
       "      <td>NaN</td>\n",
       "      <td>NaN</td>\n",
       "      <td>NaN</td>\n",
       "      <td>NaN</td>\n",
       "      <td>NaN</td>\n",
       "      <td>NaN</td>\n",
       "      <td>NaN</td>\n",
       "    </tr>\n",
       "    <tr>\n",
       "      <th>id_</th>\n",
       "      <td>43000</td>\n",
       "      <td>43000</td>\n",
       "      <td>089b39d8-e4d0-461b-87d4-814d71e0e079</td>\n",
       "      <td>1</td>\n",
       "      <td>NaN</td>\n",
       "      <td>NaN</td>\n",
       "      <td>NaN</td>\n",
       "      <td>NaN</td>\n",
       "      <td>NaN</td>\n",
       "      <td>NaN</td>\n",
       "      <td>NaN</td>\n",
       "    </tr>\n",
       "    <tr>\n",
       "      <th>year</th>\n",
       "      <td>43000.0</td>\n",
       "      <td>NaN</td>\n",
       "      <td>NaN</td>\n",
       "      <td>NaN</td>\n",
       "      <td>2005.368372</td>\n",
       "      <td>152.744417</td>\n",
       "      <td>0.0</td>\n",
       "      <td>2016.0</td>\n",
       "      <td>2017.0</td>\n",
       "      <td>2018.0</td>\n",
       "      <td>2019.0</td>\n",
       "    </tr>\n",
       "    <tr>\n",
       "      <th>month</th>\n",
       "      <td>43000.0</td>\n",
       "      <td>NaN</td>\n",
       "      <td>NaN</td>\n",
       "      <td>NaN</td>\n",
       "      <td>6.464558</td>\n",
       "      <td>3.473829</td>\n",
       "      <td>0.0</td>\n",
       "      <td>3.0</td>\n",
       "      <td>6.0</td>\n",
       "      <td>9.0</td>\n",
       "      <td>12.0</td>\n",
       "    </tr>\n",
       "    <tr>\n",
       "      <th>day</th>\n",
       "      <td>43000.0</td>\n",
       "      <td>NaN</td>\n",
       "      <td>NaN</td>\n",
       "      <td>NaN</td>\n",
       "      <td>15.930442</td>\n",
       "      <td>8.9794</td>\n",
       "      <td>0.0</td>\n",
       "      <td>8.0</td>\n",
       "      <td>16.0</td>\n",
       "      <td>24.0</td>\n",
       "      <td>31.0</td>\n",
       "    </tr>\n",
       "  </tbody>\n",
       "</table>\n",
       "</div>"
      ],
      "text/plain": [
       "                  count unique                                   top   freq  \\\n",
       "age             37880.0    NaN                                   NaN    NaN   \n",
       "job               43000     12                                admin.  10873   \n",
       "marital           43000      4                               married  25999   \n",
       "education         43000      6                                 basic  13051   \n",
       "default         34019.0    NaN                                   NaN    NaN   \n",
       "housing         41974.0    NaN                                   NaN    NaN   \n",
       "loan            41974.0    NaN                                   NaN    NaN   \n",
       "contact           43000      2                              cellular  27396   \n",
       "duration        43000.0    NaN                                   NaN    NaN   \n",
       "campaign        43000.0    NaN                                   NaN    NaN   \n",
       "pdays           43000.0    NaN                                   NaN    NaN   \n",
       "previous        43000.0    NaN                                   NaN    NaN   \n",
       "emp_var_rate    43000.0    NaN                                   NaN    NaN   \n",
       "cons_price_idx  42529.0    NaN                                   NaN    NaN   \n",
       "cons_conf_idx   43000.0    NaN                                   NaN    NaN   \n",
       "euribor3m       33744.0    NaN                                   NaN    NaN   \n",
       "nr_employed     43000.0    NaN                                   NaN    NaN   \n",
       "y                 43000      2                                    no  38156   \n",
       "id_               43000  43000  089b39d8-e4d0-461b-87d4-814d71e0e079      1   \n",
       "year            43000.0    NaN                                   NaN    NaN   \n",
       "month           43000.0    NaN                                   NaN    NaN   \n",
       "day             43000.0    NaN                                   NaN    NaN   \n",
       "\n",
       "                        mean           std     min      25%      50%      75%  \\\n",
       "age                39.977112     10.437957    17.0     32.0     38.0     47.0   \n",
       "job                      NaN           NaN     NaN      NaN      NaN      NaN   \n",
       "marital                  NaN           NaN     NaN      NaN      NaN      NaN   \n",
       "education                NaN           NaN     NaN      NaN      NaN      NaN   \n",
       "default             0.000088       0.00939     0.0      0.0      0.0      0.0   \n",
       "housing             0.535998      0.498708     0.0      0.0      1.0      1.0   \n",
       "loan                 0.15562      0.362499     0.0      0.0      0.0      0.0   \n",
       "contact                  NaN           NaN     NaN      NaN      NaN      NaN   \n",
       "duration          257.739279    258.666033     0.0    102.0    179.0    319.0   \n",
       "campaign            2.567233      2.772294     1.0      1.0      2.0      3.0   \n",
       "pdays             962.330953    187.260394     0.0    999.0    999.0    999.0   \n",
       "previous            0.174023      0.497366     0.0      0.0      0.0      0.0   \n",
       "emp_var_rate        0.077128      1.573898    -3.4     -1.8      1.1      1.4   \n",
       "cons_price_idx  85479.697689   26225.07061   932.0  92893.0  93749.0  93994.0   \n",
       "cons_conf_idx    -365.581116    119.314297  -508.0   -427.0   -403.0   -361.0   \n",
       "euribor3m        3282.850492   1934.951108     1.0   1281.0   4856.0   4961.0   \n",
       "nr_employed     42954.889279  18096.647138  5191.0  50175.0  50991.0  52281.0   \n",
       "y                        NaN           NaN     NaN      NaN      NaN      NaN   \n",
       "id_                      NaN           NaN     NaN      NaN      NaN      NaN   \n",
       "year             2005.368372    152.744417     0.0   2016.0   2017.0   2018.0   \n",
       "month               6.464558      3.473829     0.0      3.0      6.0      9.0   \n",
       "day                15.930442        8.9794     0.0      8.0     16.0     24.0   \n",
       "\n",
       "                    max  \n",
       "age                98.0  \n",
       "job                 NaN  \n",
       "marital             NaN  \n",
       "education           NaN  \n",
       "default             1.0  \n",
       "housing             1.0  \n",
       "loan                1.0  \n",
       "contact             NaN  \n",
       "duration         4918.0  \n",
       "campaign           56.0  \n",
       "pdays             999.0  \n",
       "previous            7.0  \n",
       "emp_var_rate        1.4  \n",
       "cons_price_idx  94767.0  \n",
       "cons_conf_idx     -33.0  \n",
       "euribor3m        5045.0  \n",
       "nr_employed     52281.0  \n",
       "y                   NaN  \n",
       "id_                 NaN  \n",
       "year             2019.0  \n",
       "month              12.0  \n",
       "day                31.0  "
      ]
     },
     "metadata": {},
     "output_type": "display_data"
    }
   ],
   "source": [
    "analisis_general_cat(df_limpio)\n"
   ]
  },
  {
   "cell_type": "code",
   "execution_count": null,
   "metadata": {},
   "outputs": [
    {
     "data": {
      "image/png": "[encoded data removed]",
      "text/plain": [
       "<Figure size 800x400 with 1 Axes>"
      ]
     },
     "metadata": {},
     "output_type": "display_data"
    },
    {
     "data": {
      "image/png": "[encoded data removed]",
      "text/plain": [
       "<Figure size 800x400 with 1 Axes>"
      ]
     },
     "metadata": {},
     "output_type": "display_data"
    },
    {
     "data": {
      "image/png": "[encoded data removed]",
      "text/plain": [
       "<Figure size 800x400 with 1 Axes>"
      ]
     },
     "metadata": {},
     "output_type": "display_data"
    },
    {
     "data": {
      "image/png": "[encoded data removed]",
      "text/plain": [
       "<Figure size 800x400 with 1 Axes>"
      ]
     },
     "metadata": {},
     "output_type": "display_data"
    },
    {
     "data": {
      "image/png": "[encoded data removed]",
      "text/plain": [
       "<Figure size 800x400 with 1 Axes>"
      ]
     },
     "metadata": {},
     "output_type": "display_data"
    },
    {
     "ename": "KeyboardInterrupt",
     "evalue": "",
     "output_type": "error",
     "traceback": [
      "\u001b[1;31m---------------------------------------------------------------------------\u001b[0m",
      "\u001b[1;31mKeyboardInterrupt\u001b[0m                         Traceback (most recent call last)",
      "Cell \u001b[1;32mIn[20], line 1\u001b[0m\n\u001b[1;32m----> 1\u001b[0m \u001b[43mgraficar_categoricas\u001b[49m\u001b[43m(\u001b[49m\u001b[43mdf_limpio\u001b[49m\u001b[43m)\u001b[49m\n",
      "File \u001b[1;32mc:\\Users\\antonio\\Desktop\\EDA_Bank_Marketing_Analysis\\jupyters\\../src\\sp_visualizacion.py:11\u001b[0m, in \u001b[0;36mgraficar_categoricas\u001b[1;34m(df)\u001b[0m\n\u001b[0;32m      9\u001b[0m \u001b[38;5;28;01mfor\u001b[39;00m col \u001b[38;5;129;01min\u001b[39;00m categorical_cols:\n\u001b[0;32m     10\u001b[0m     plt\u001b[38;5;241m.\u001b[39mfigure(figsize\u001b[38;5;241m=\u001b[39m(\u001b[38;5;241m8\u001b[39m, \u001b[38;5;241m4\u001b[39m))\n\u001b[1;32m---> 11\u001b[0m     \u001b[43msns\u001b[49m\u001b[38;5;241;43m.\u001b[39;49m\u001b[43mcountplot\u001b[49m\u001b[43m(\u001b[49m\u001b[43mdata\u001b[49m\u001b[38;5;241;43m=\u001b[39;49m\u001b[43mdf\u001b[49m\u001b[43m,\u001b[49m\u001b[43m \u001b[49m\u001b[43mx\u001b[49m\u001b[38;5;241;43m=\u001b[39;49m\u001b[43mcol\u001b[49m\u001b[43m,\u001b[49m\u001b[43m \u001b[49m\u001b[43mhue\u001b[49m\u001b[38;5;241;43m=\u001b[39;49m\u001b[43mcol\u001b[49m\u001b[43m,\u001b[49m\u001b[43m \u001b[49m\u001b[43mpalette\u001b[49m\u001b[38;5;241;43m=\u001b[39;49m\u001b[38;5;124;43m\"\u001b[39;49m\u001b[38;5;124;43mviridis\u001b[39;49m\u001b[38;5;124;43m\"\u001b[39;49m\u001b[43m,\u001b[49m\u001b[43m \u001b[49m\u001b[43morder\u001b[49m\u001b[38;5;241;43m=\u001b[39;49m\u001b[43mdf\u001b[49m\u001b[43m[\u001b[49m\u001b[43mcol\u001b[49m\u001b[43m]\u001b[49m\u001b[38;5;241;43m.\u001b[39;49m\u001b[43mvalue_counts\u001b[49m\u001b[43m(\u001b[49m\u001b[43m)\u001b[49m\u001b[38;5;241;43m.\u001b[39;49m\u001b[43mindex\u001b[49m\u001b[43m,\u001b[49m\u001b[43m \u001b[49m\u001b[43mlegend\u001b[49m\u001b[38;5;241;43m=\u001b[39;49m\u001b[38;5;28;43;01mFalse\u001b[39;49;00m\u001b[43m)\u001b[49m;\n\u001b[0;32m     12\u001b[0m     plt\u001b[38;5;241m.\u001b[39mtitle(\u001b[38;5;124mf\u001b[39m\u001b[38;5;124m\"\u001b[39m\u001b[38;5;124mDistribución de \u001b[39m\u001b[38;5;132;01m{\u001b[39;00mcol\u001b[38;5;132;01m}\u001b[39;00m\u001b[38;5;124m\"\u001b[39m)\n\u001b[0;32m     13\u001b[0m     plt\u001b[38;5;241m.\u001b[39mxticks(rotation\u001b[38;5;241m=\u001b[39m\u001b[38;5;241m45\u001b[39m)\n",
      "File \u001b[1;32mc:\\Users\\antonio\\Desktop\\EDA_Bank_Marketing_Analysis\\venv\\Lib\\site-packages\\seaborn\\categorical.py:2675\u001b[0m, in \u001b[0;36mcountplot\u001b[1;34m(data, x, y, hue, order, hue_order, orient, color, palette, saturation, fill, hue_norm, stat, width, dodge, gap, log_scale, native_scale, formatter, legend, ax, **kwargs)\u001b[0m\n\u001b[0;32m   2671\u001b[0m     p\u001b[38;5;241m.\u001b[39mplot_data[count_axis] \u001b[38;5;241m/\u001b[39m\u001b[38;5;241m=\u001b[39m \u001b[38;5;28mlen\u001b[39m(p\u001b[38;5;241m.\u001b[39mplot_data) \u001b[38;5;241m/\u001b[39m denom\n\u001b[0;32m   2673\u001b[0m aggregator \u001b[38;5;241m=\u001b[39m EstimateAggregator(\u001b[38;5;124m\"\u001b[39m\u001b[38;5;124msum\u001b[39m\u001b[38;5;124m\"\u001b[39m, errorbar\u001b[38;5;241m=\u001b[39m\u001b[38;5;28;01mNone\u001b[39;00m)\n\u001b[1;32m-> 2675\u001b[0m \u001b[43mp\u001b[49m\u001b[38;5;241;43m.\u001b[39;49m\u001b[43mplot_bars\u001b[49m\u001b[43m(\u001b[49m\n\u001b[0;32m   2676\u001b[0m \u001b[43m    \u001b[49m\u001b[43maggregator\u001b[49m\u001b[38;5;241;43m=\u001b[39;49m\u001b[43maggregator\u001b[49m\u001b[43m,\u001b[49m\n\u001b[0;32m   2677\u001b[0m \u001b[43m    \u001b[49m\u001b[43mdodge\u001b[49m\u001b[38;5;241;43m=\u001b[39;49m\u001b[43mdodge\u001b[49m\u001b[43m,\u001b[49m\n\u001b[0;32m   2678\u001b[0m \u001b[43m    \u001b[49m\u001b[43mwidth\u001b[49m\u001b[38;5;241;43m=\u001b[39;49m\u001b[43mwidth\u001b[49m\u001b[43m,\u001b[49m\n\u001b[0;32m   2679\u001b[0m \u001b[43m    \u001b[49m\u001b[43mgap\u001b[49m\u001b[38;5;241;43m=\u001b[39;49m\u001b[43mgap\u001b[49m\u001b[43m,\u001b[49m\n\u001b[0;32m   2680\u001b[0m \u001b[43m    \u001b[49m\u001b[43mcolor\u001b[49m\u001b[38;5;241;43m=\u001b[39;49m\u001b[43mcolor\u001b[49m\u001b[43m,\u001b[49m\n\u001b[0;32m   2681\u001b[0m \u001b[43m    \u001b[49m\u001b[43mfill\u001b[49m\u001b[38;5;241;43m=\u001b[39;49m\u001b[43mfill\u001b[49m\u001b[43m,\u001b[49m\n\u001b[0;32m   2682\u001b[0m \u001b[43m    \u001b[49m\u001b[43mcapsize\u001b[49m\u001b[38;5;241;43m=\u001b[39;49m\u001b[38;5;241;43m0\u001b[39;49m\u001b[43m,\u001b[49m\n\u001b[0;32m   2683\u001b[0m \u001b[43m    \u001b[49m\u001b[43merr_kws\u001b[49m\u001b[38;5;241;43m=\u001b[39;49m\u001b[43m{\u001b[49m\u001b[43m}\u001b[49m\u001b[43m,\u001b[49m\n\u001b[0;32m   2684\u001b[0m \u001b[43m    \u001b[49m\u001b[43mplot_kws\u001b[49m\u001b[38;5;241;43m=\u001b[39;49m\u001b[43mkwargs\u001b[49m\u001b[43m,\u001b[49m\n\u001b[0;32m   2685\u001b[0m \u001b[43m\u001b[49m\u001b[43m)\u001b[49m\n\u001b[0;32m   2687\u001b[0m p\u001b[38;5;241m.\u001b[39m_add_axis_labels(ax)\n\u001b[0;32m   2688\u001b[0m p\u001b[38;5;241m.\u001b[39m_adjust_cat_axis(ax, axis\u001b[38;5;241m=\u001b[39mp\u001b[38;5;241m.\u001b[39morient)\n",
      "File \u001b[1;32mc:\\Users\\antonio\\Desktop\\EDA_Bank_Marketing_Analysis\\venv\\Lib\\site-packages\\seaborn\\categorical.py:1315\u001b[0m, in \u001b[0;36m_CategoricalPlotter.plot_bars\u001b[1;34m(self, aggregator, dodge, gap, width, fill, color, capsize, err_kws, plot_kws)\u001b[0m\n\u001b[0;32m   1312\u001b[0m \u001b[38;5;28;01melse\u001b[39;00m:\n\u001b[0;32m   1313\u001b[0m     kws\u001b[38;5;241m.\u001b[39mupdate(color\u001b[38;5;241m=\u001b[39mmain_color, edgecolor\u001b[38;5;241m=\u001b[39mmain_color, facecolor\u001b[38;5;241m=\u001b[39m\u001b[38;5;124m\"\u001b[39m\u001b[38;5;124mnone\u001b[39m\u001b[38;5;124m\"\u001b[39m)\n\u001b[1;32m-> 1315\u001b[0m \u001b[43mbar_func\u001b[49m\u001b[43m(\u001b[49m\u001b[38;5;241;43m*\u001b[39;49m\u001b[38;5;241;43m*\u001b[39;49m\u001b[43m{\u001b[49m\u001b[38;5;241;43m*\u001b[39;49m\u001b[38;5;241;43m*\u001b[39;49m\u001b[43mkws\u001b[49m\u001b[43m,\u001b[49m\u001b[43m \u001b[49m\u001b[38;5;241;43m*\u001b[39;49m\u001b[38;5;241;43m*\u001b[39;49m\u001b[43mplot_kws\u001b[49m\u001b[43m}\u001b[49m\u001b[43m)\u001b[49m\n\u001b[0;32m   1317\u001b[0m \u001b[38;5;28;01mif\u001b[39;00m aggregator\u001b[38;5;241m.\u001b[39merror_method \u001b[38;5;129;01mis\u001b[39;00m \u001b[38;5;129;01mnot\u001b[39;00m \u001b[38;5;28;01mNone\u001b[39;00m:\n\u001b[0;32m   1318\u001b[0m     \u001b[38;5;28mself\u001b[39m\u001b[38;5;241m.\u001b[39mplot_errorbars(\n\u001b[0;32m   1319\u001b[0m         ax, agg_data, capsize,\n\u001b[0;32m   1320\u001b[0m         {\u001b[38;5;124m\"\u001b[39m\u001b[38;5;124mcolor\u001b[39m\u001b[38;5;124m\"\u001b[39m: \u001b[38;5;124m\"\u001b[39m\u001b[38;5;124m.26\u001b[39m\u001b[38;5;124m\"\u001b[39m \u001b[38;5;28;01mif\u001b[39;00m fill \u001b[38;5;28;01melse\u001b[39;00m main_color, \u001b[38;5;241m*\u001b[39m\u001b[38;5;241m*\u001b[39merr_kws}\n\u001b[0;32m   1321\u001b[0m     )\n",
      "File \u001b[1;32mc:\\Users\\antonio\\Desktop\\EDA_Bank_Marketing_Analysis\\venv\\Lib\\site-packages\\matplotlib\\__init__.py:1521\u001b[0m, in \u001b[0;36m_preprocess_data.<locals>.inner\u001b[1;34m(ax, data, *args, **kwargs)\u001b[0m\n\u001b[0;32m   1518\u001b[0m \u001b[38;5;129m@functools\u001b[39m\u001b[38;5;241m.\u001b[39mwraps(func)\n\u001b[0;32m   1519\u001b[0m \u001b[38;5;28;01mdef\u001b[39;00m\u001b[38;5;250m \u001b[39m\u001b[38;5;21minner\u001b[39m(ax, \u001b[38;5;241m*\u001b[39margs, data\u001b[38;5;241m=\u001b[39m\u001b[38;5;28;01mNone\u001b[39;00m, \u001b[38;5;241m*\u001b[39m\u001b[38;5;241m*\u001b[39mkwargs):\n\u001b[0;32m   1520\u001b[0m     \u001b[38;5;28;01mif\u001b[39;00m data \u001b[38;5;129;01mis\u001b[39;00m \u001b[38;5;28;01mNone\u001b[39;00m:\n\u001b[1;32m-> 1521\u001b[0m         \u001b[38;5;28;01mreturn\u001b[39;00m \u001b[43mfunc\u001b[49m\u001b[43m(\u001b[49m\n\u001b[0;32m   1522\u001b[0m \u001b[43m            \u001b[49m\u001b[43max\u001b[49m\u001b[43m,\u001b[49m\n\u001b[0;32m   1523\u001b[0m \u001b[43m            \u001b[49m\u001b[38;5;241;43m*\u001b[39;49m\u001b[38;5;28;43mmap\u001b[39;49m\u001b[43m(\u001b[49m\u001b[43mcbook\u001b[49m\u001b[38;5;241;43m.\u001b[39;49m\u001b[43msanitize_sequence\u001b[49m\u001b[43m,\u001b[49m\u001b[43m \u001b[49m\u001b[43margs\u001b[49m\u001b[43m)\u001b[49m\u001b[43m,\u001b[49m\n\u001b[0;32m   1524\u001b[0m \u001b[43m            \u001b[49m\u001b[38;5;241;43m*\u001b[39;49m\u001b[38;5;241;43m*\u001b[39;49m\u001b[43m{\u001b[49m\u001b[43mk\u001b[49m\u001b[43m:\u001b[49m\u001b[43m \u001b[49m\u001b[43mcbook\u001b[49m\u001b[38;5;241;43m.\u001b[39;49m\u001b[43msanitize_sequence\u001b[49m\u001b[43m(\u001b[49m\u001b[43mv\u001b[49m\u001b[43m)\u001b[49m\u001b[43m \u001b[49m\u001b[38;5;28;43;01mfor\u001b[39;49;00m\u001b[43m \u001b[49m\u001b[43mk\u001b[49m\u001b[43m,\u001b[49m\u001b[43m \u001b[49m\u001b[43mv\u001b[49m\u001b[43m \u001b[49m\u001b[38;5;129;43;01min\u001b[39;49;00m\u001b[43m \u001b[49m\u001b[43mkwargs\u001b[49m\u001b[38;5;241;43m.\u001b[39;49m\u001b[43mitems\u001b[49m\u001b[43m(\u001b[49m\u001b[43m)\u001b[49m\u001b[43m}\u001b[49m\u001b[43m)\u001b[49m\n\u001b[0;32m   1526\u001b[0m     bound \u001b[38;5;241m=\u001b[39m new_sig\u001b[38;5;241m.\u001b[39mbind(ax, \u001b[38;5;241m*\u001b[39margs, \u001b[38;5;241m*\u001b[39m\u001b[38;5;241m*\u001b[39mkwargs)\n\u001b[0;32m   1527\u001b[0m     auto_label \u001b[38;5;241m=\u001b[39m (bound\u001b[38;5;241m.\u001b[39marguments\u001b[38;5;241m.\u001b[39mget(label_namer)\n\u001b[0;32m   1528\u001b[0m                   \u001b[38;5;129;01mor\u001b[39;00m bound\u001b[38;5;241m.\u001b[39mkwargs\u001b[38;5;241m.\u001b[39mget(label_namer))\n",
      "File \u001b[1;32mc:\\Users\\antonio\\Desktop\\EDA_Bank_Marketing_Analysis\\venv\\Lib\\site-packages\\matplotlib\\axes\\_axes.py:2649\u001b[0m, in \u001b[0;36mAxes.bar\u001b[1;34m(self, x, height, width, bottom, align, **kwargs)\u001b[0m\n\u001b[0;32m   2647\u001b[0m     \u001b[38;5;28;01melse\u001b[39;00m:  \u001b[38;5;66;03m# horizontal\u001b[39;00m\n\u001b[0;32m   2648\u001b[0m         r\u001b[38;5;241m.\u001b[39msticky_edges\u001b[38;5;241m.\u001b[39mx\u001b[38;5;241m.\u001b[39mappend(l)\n\u001b[1;32m-> 2649\u001b[0m     \u001b[38;5;28;43mself\u001b[39;49m\u001b[38;5;241;43m.\u001b[39;49m\u001b[43madd_patch\u001b[49m\u001b[43m(\u001b[49m\u001b[43mr\u001b[49m\u001b[43m)\u001b[49m\n\u001b[0;32m   2650\u001b[0m     patches\u001b[38;5;241m.\u001b[39mappend(r)\n\u001b[0;32m   2652\u001b[0m \u001b[38;5;28;01mif\u001b[39;00m xerr \u001b[38;5;129;01mis\u001b[39;00m \u001b[38;5;129;01mnot\u001b[39;00m \u001b[38;5;28;01mNone\u001b[39;00m \u001b[38;5;129;01mor\u001b[39;00m yerr \u001b[38;5;129;01mis\u001b[39;00m \u001b[38;5;129;01mnot\u001b[39;00m \u001b[38;5;28;01mNone\u001b[39;00m:\n",
      "File \u001b[1;32mc:\\Users\\antonio\\Desktop\\EDA_Bank_Marketing_Analysis\\venv\\Lib\\site-packages\\matplotlib\\axes\\_base.py:2446\u001b[0m, in \u001b[0;36m_AxesBase.add_patch\u001b[1;34m(self, p)\u001b[0m\n\u001b[0;32m   2444\u001b[0m \u001b[38;5;28;01mif\u001b[39;00m p\u001b[38;5;241m.\u001b[39mget_clip_path() \u001b[38;5;129;01mis\u001b[39;00m \u001b[38;5;28;01mNone\u001b[39;00m:\n\u001b[0;32m   2445\u001b[0m     p\u001b[38;5;241m.\u001b[39mset_clip_path(\u001b[38;5;28mself\u001b[39m\u001b[38;5;241m.\u001b[39mpatch)\n\u001b[1;32m-> 2446\u001b[0m \u001b[38;5;28;43mself\u001b[39;49m\u001b[38;5;241;43m.\u001b[39;49m\u001b[43m_update_patch_limits\u001b[49m\u001b[43m(\u001b[49m\u001b[43mp\u001b[49m\u001b[43m)\u001b[49m\n\u001b[0;32m   2447\u001b[0m \u001b[38;5;28mself\u001b[39m\u001b[38;5;241m.\u001b[39m_children\u001b[38;5;241m.\u001b[39mappend(p)\n\u001b[0;32m   2448\u001b[0m p\u001b[38;5;241m.\u001b[39m_remove_method \u001b[38;5;241m=\u001b[39m \u001b[38;5;28mself\u001b[39m\u001b[38;5;241m.\u001b[39m_children\u001b[38;5;241m.\u001b[39mremove\n",
      "File \u001b[1;32mc:\\Users\\antonio\\Desktop\\EDA_Bank_Marketing_Analysis\\venv\\Lib\\site-packages\\matplotlib\\axes\\_base.py:2488\u001b[0m, in \u001b[0;36m_AxesBase._update_patch_limits\u001b[1;34m(self, patch)\u001b[0m\n\u001b[0;32m   2486\u001b[0m         updatey \u001b[38;5;241m=\u001b[39m \u001b[38;5;28;01mFalse\u001b[39;00m\n\u001b[0;32m   2487\u001b[0m trf_to_data \u001b[38;5;241m=\u001b[39m patch_trf \u001b[38;5;241m-\u001b[39m \u001b[38;5;28mself\u001b[39m\u001b[38;5;241m.\u001b[39mtransData\n\u001b[1;32m-> 2488\u001b[0m xys \u001b[38;5;241m=\u001b[39m \u001b[43mtrf_to_data\u001b[49m\u001b[38;5;241;43m.\u001b[39;49m\u001b[43mtransform\u001b[49m\u001b[43m(\u001b[49m\u001b[43mvertices\u001b[49m\u001b[43m)\u001b[49m\n\u001b[0;32m   2489\u001b[0m \u001b[38;5;28mself\u001b[39m\u001b[38;5;241m.\u001b[39mupdate_datalim(xys, updatex\u001b[38;5;241m=\u001b[39mupdatex, updatey\u001b[38;5;241m=\u001b[39mupdatey)\n",
      "File \u001b[1;32mc:\\Users\\antonio\\Desktop\\EDA_Bank_Marketing_Analysis\\venv\\Lib\\site-packages\\matplotlib\\transforms.py:1495\u001b[0m, in \u001b[0;36mTransform.transform\u001b[1;34m(self, values)\u001b[0m\n\u001b[0;32m   1492\u001b[0m values \u001b[38;5;241m=\u001b[39m values\u001b[38;5;241m.\u001b[39mreshape((\u001b[38;5;241m-\u001b[39m\u001b[38;5;241m1\u001b[39m, \u001b[38;5;28mself\u001b[39m\u001b[38;5;241m.\u001b[39minput_dims))\n\u001b[0;32m   1494\u001b[0m \u001b[38;5;66;03m# Transform the values\u001b[39;00m\n\u001b[1;32m-> 1495\u001b[0m res \u001b[38;5;241m=\u001b[39m \u001b[38;5;28;43mself\u001b[39;49m\u001b[38;5;241;43m.\u001b[39;49m\u001b[43mtransform_affine\u001b[49m\u001b[43m(\u001b[49m\u001b[38;5;28;43mself\u001b[39;49m\u001b[38;5;241;43m.\u001b[39;49m\u001b[43mtransform_non_affine\u001b[49m\u001b[43m(\u001b[49m\u001b[43mvalues\u001b[49m\u001b[43m)\u001b[49m\u001b[43m)\u001b[49m\n\u001b[0;32m   1497\u001b[0m \u001b[38;5;66;03m# Convert the result back to the shape of the input values.\u001b[39;00m\n\u001b[0;32m   1498\u001b[0m \u001b[38;5;28;01mif\u001b[39;00m ndim \u001b[38;5;241m==\u001b[39m \u001b[38;5;241m0\u001b[39m:\n",
      "File \u001b[1;32mc:\\Users\\antonio\\Desktop\\EDA_Bank_Marketing_Analysis\\venv\\Lib\\site-packages\\matplotlib\\transforms.py:2410\u001b[0m, in \u001b[0;36mCompositeGenericTransform.transform_affine\u001b[1;34m(self, values)\u001b[0m\n\u001b[0;32m   2408\u001b[0m \u001b[38;5;28;01mdef\u001b[39;00m\u001b[38;5;250m \u001b[39m\u001b[38;5;21mtransform_affine\u001b[39m(\u001b[38;5;28mself\u001b[39m, values):\n\u001b[0;32m   2409\u001b[0m     \u001b[38;5;66;03m# docstring inherited\u001b[39;00m\n\u001b[1;32m-> 2410\u001b[0m     \u001b[38;5;28;01mreturn\u001b[39;00m \u001b[38;5;28;43mself\u001b[39;49m\u001b[38;5;241;43m.\u001b[39;49m\u001b[43mget_affine\u001b[49m\u001b[43m(\u001b[49m\u001b[43m)\u001b[49m\u001b[38;5;241m.\u001b[39mtransform(values)\n",
      "File \u001b[1;32mc:\\Users\\antonio\\Desktop\\EDA_Bank_Marketing_Analysis\\venv\\Lib\\site-packages\\matplotlib\\transforms.py:2436\u001b[0m, in \u001b[0;36mCompositeGenericTransform.get_affine\u001b[1;34m(self)\u001b[0m\n\u001b[0;32m   2434\u001b[0m     \u001b[38;5;28;01mreturn\u001b[39;00m \u001b[38;5;28mself\u001b[39m\u001b[38;5;241m.\u001b[39m_b\u001b[38;5;241m.\u001b[39mget_affine()\n\u001b[0;32m   2435\u001b[0m \u001b[38;5;28;01melse\u001b[39;00m:\n\u001b[1;32m-> 2436\u001b[0m     \u001b[38;5;28;01mreturn\u001b[39;00m Affine2D(\u001b[43mnp\u001b[49m\u001b[38;5;241;43m.\u001b[39;49m\u001b[43mdot\u001b[49m\u001b[43m(\u001b[49m\u001b[38;5;28;43mself\u001b[39;49m\u001b[38;5;241;43m.\u001b[39;49m\u001b[43m_b\u001b[49m\u001b[38;5;241;43m.\u001b[39;49m\u001b[43mget_affine\u001b[49m\u001b[43m(\u001b[49m\u001b[43m)\u001b[49m\u001b[38;5;241;43m.\u001b[39;49m\u001b[43mget_matrix\u001b[49m\u001b[43m(\u001b[49m\u001b[43m)\u001b[49m\u001b[43m,\u001b[49m\n\u001b[0;32m   2437\u001b[0m \u001b[43m                           \u001b[49m\u001b[38;5;28;43mself\u001b[39;49m\u001b[38;5;241;43m.\u001b[39;49m\u001b[43m_a\u001b[49m\u001b[38;5;241;43m.\u001b[39;49m\u001b[43mget_affine\u001b[49m\u001b[43m(\u001b[49m\u001b[43m)\u001b[49m\u001b[38;5;241;43m.\u001b[39;49m\u001b[43mget_matrix\u001b[49m\u001b[43m(\u001b[49m\u001b[43m)\u001b[49m\u001b[43m)\u001b[49m)\n",
      "\u001b[1;31mKeyboardInterrupt\u001b[0m: "
     ]
    }
   ],
   "source": [
    "graficar_categoricas(df_limpio)"
   ]
  }
 ],
 "metadata": {
  "kernelspec": {
   "display_name": "venv",
   "language": "python",
   "name": "python3"
  },
  "language_info": {
   "codemirror_mode": {
    "name": "ipython",
    "version": 3
   },
   "file_extension": ".py",
   "mimetype": "text/x-python",
   "name": "python",
   "nbconvert_exporter": "python",
   "pygments_lexer": "ipython3",
   "version": "3.13.0"
  }
 },
 "nbformat": 4,
 "nbformat_minor": 2
}
