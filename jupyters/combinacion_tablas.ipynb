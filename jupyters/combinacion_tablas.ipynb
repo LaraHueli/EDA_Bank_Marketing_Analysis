{
 "cells": [
  {
   "cell_type": "code",
   "execution_count": 1,
   "metadata": {},
   "outputs": [
    {
     "name": "stdout",
     "output_type": "stream",
     "text": [
      "Requirement already satisfied: openpyxl in c:\\users\\antonio\\desktop\\eda_bank_marketing_analysis\\venv\\lib\\site-packages (3.1.5)"
     ]
    },
    {
     "name": "stderr",
     "output_type": "stream",
     "text": [
      "\n",
      "[notice] A new release of pip is available: 25.0 -> 25.0.1\n",
      "[notice] To update, run: python.exe -m pip install --upgrade pip\n"
     ]
    },
    {
     "name": "stdout",
     "output_type": "stream",
     "text": [
      "\n",
      "Requirement already satisfied: et-xmlfile in c:\\users\\antonio\\desktop\\eda_bank_marketing_analysis\\venv\\lib\\site-packages (from openpyxl) (2.0.0)\n"
     ]
    }
   ],
   "source": [
    "import pandas as pd\n",
    "!pip install openpyxl"
   ]
  },
  {
   "cell_type": "code",
   "execution_count": 2,
   "metadata": {},
   "outputs": [],
   "source": [
    "ruta = r\"C:\\Users\\antonio\\Desktop\\EDA_Bank_Marketing_Analysis\\data\""
   ]
  },
  {
   "cell_type": "code",
   "execution_count": 3,
   "metadata": {},
   "outputs": [],
   "source": [
    "df1 = pd.read_csv(ruta + r\"\\bank-additional.csv\")\n",
    "df2 = pd.read_excel(ruta + r\"\\customer-details.xlsx\")"
   ]
  },
  {
   "cell_type": "code",
   "execution_count": 4,
   "metadata": {},
   "outputs": [
    {
     "name": "stdout",
     "output_type": "stream",
     "text": [
      "Index(['Unnamed: 0', 'age', 'job', 'marital', 'education', 'default',\n",
      "       'housing', 'loan', 'contact', 'duration', 'campaign', 'pdays',\n",
      "       'previous', 'poutcome', 'emp.var.rate', 'cons.price.idx',\n",
      "       'cons.conf.idx', 'euribor3m', 'nr.employed', 'y', 'date', 'latitude',\n",
      "       'longitude', 'id_'],\n",
      "      dtype='object')\n",
      "Index(['Unnamed: 0', 'Income', 'Kidhome', 'Teenhome', 'Dt_Customer',\n",
      "       'NumWebVisitsMonth', 'ID'],\n",
      "      dtype='object')\n"
     ]
    }
   ],
   "source": [
    "print(df1.columns)\n",
    "print(df2.columns)"
   ]
  },
  {
   "cell_type": "code",
   "execution_count": 5,
   "metadata": {},
   "outputs": [],
   "source": [
    "df2.rename(columns={\"ID\": \"id_\"}, inplace=True)"
   ]
  },
  {
   "cell_type": "code",
   "execution_count": 6,
   "metadata": {},
   "outputs": [
    {
     "name": "stdout",
     "output_type": "stream",
     "text": [
      "Index(['Unnamed: 0', 'age', 'job', 'marital', 'education', 'default',\n",
      "       'housing', 'loan', 'contact', 'duration', 'campaign', 'pdays',\n",
      "       'previous', 'poutcome', 'emp.var.rate', 'cons.price.idx',\n",
      "       'cons.conf.idx', 'euribor3m', 'nr.employed', 'y', 'date', 'latitude',\n",
      "       'longitude', 'id_'],\n",
      "      dtype='object')\n",
      "Index(['Unnamed: 0', 'Income', 'Kidhome', 'Teenhome', 'Dt_Customer',\n",
      "       'NumWebVisitsMonth', 'id_'],\n",
      "      dtype='object')\n"
     ]
    }
   ],
   "source": [
    "print(df1.columns)\n",
    "print(df2.columns)"
   ]
  },
  {
   "cell_type": "code",
   "execution_count": 7,
   "metadata": {},
   "outputs": [
    {
     "name": "stdout",
     "output_type": "stream",
     "text": [
      "43000 20115\n",
      "0    089b39d8-e4d0-461b-87d4-814d71e0e079\n",
      "1    e9d37224-cb6f-4942-98d7-46672963d097\n",
      "2    3f9f49b5-e410-4948-bf6e-f9244f04918b\n",
      "3    9991fafb-4447-451a-8be2-b0df6098d13e\n",
      "4    eca60b76-70b6-4077-80ba-bc52e8ebb0eb\n",
      "Name: id_, dtype: object 0    089b39d8-e4d0-461b-87d4-814d71e0e079\n",
      "1    e9d37224-cb6f-4942-98d7-46672963d097\n",
      "2    3f9f49b5-e410-4948-bf6e-f9244f04918b\n",
      "3    9991fafb-4447-451a-8be2-b0df6098d13e\n",
      "4    eca60b76-70b6-4077-80ba-bc52e8ebb0eb\n",
      "Name: id_, dtype: object\n"
     ]
    }
   ],
   "source": [
    "print(df1[\"id_\"].nunique(), df2[\"id_\"].nunique())  # Cantidad de valores únicos\n",
    "print(df1[\"id_\"].head(), df2[\"id_\"].head())  # Ver primeras filas"
   ]
  },
  {
   "cell_type": "code",
   "execution_count": 8,
   "metadata": {},
   "outputs": [
    {
     "name": "stdout",
     "output_type": "stream",
     "text": [
      "Número de IDs en df2 que están en df1: 20018 de 20115\n"
     ]
    }
   ],
   "source": [
    "ids_comunes = df1[\"id_\"].isin(df2[\"id_\"]).sum()\n",
    "print(f\"Número de IDs en df2 que están en df1: {ids_comunes} de {df2['id_'].nunique()}\")"
   ]
  },
  {
   "cell_type": "code",
   "execution_count": 9,
   "metadata": {},
   "outputs": [
    {
     "name": "stdout",
     "output_type": "stream",
     "text": [
      "IDs en df2 que NO están en df1: 97\n",
      "     Unnamed: 0  Income  Kidhome  Teenhome Dt_Customer  NumWebVisitsMonth  \\\n",
      "119         119  102425        0         1  2012-11-09                 25   \n",
      "120         120   95045        1         2  2012-09-20                 32   \n",
      "121         121   64631        1         2  2012-10-05                 13   \n",
      "122         122   28884        2         2  2012-09-10                 11   \n",
      "123         123  102262        0         2  2012-09-10                 23   \n",
      "\n",
      "                                      id_  \n",
      "119  01348114-d159-4dbf-9b3d-cf682d9150c7  \n",
      "120  0d9c6d8c-08ac-45b0-8a13-9db62596d88d  \n",
      "121  044183b7-4e50-4b68-9e9e-cd45f37144d5  \n",
      "122  dd697c4c-dbbc-4178-b519-997f82e4ef78  \n",
      "123  ebb5a7da-41b6-43e7-a392-16dee3631ebd  \n"
     ]
    }
   ],
   "source": [
    "ids_faltantes = df2[~df2[\"id_\"].isin(df1[\"id_\"])]  # Filtramos los que no están en df1\n",
    "print(f\"IDs en df2 que NO están en df1: {len(ids_faltantes)}\")\n",
    "print(ids_faltantes.head())  # Ver los primeros valores faltantes"
   ]
  },
  {
   "cell_type": "code",
   "execution_count": 10,
   "metadata": {},
   "outputs": [
    {
     "name": "stdout",
     "output_type": "stream",
     "text": [
      "<class 'pandas.core.frame.DataFrame'>\n",
      "RangeIndex: 43000 entries, 0 to 42999\n",
      "Data columns (total 30 columns):\n",
      " #   Column             Non-Null Count  Dtype         \n",
      "---  ------             --------------  -----         \n",
      " 0   Unnamed: 0_x       43000 non-null  int64         \n",
      " 1   age                37880 non-null  float64       \n",
      " 2   job                42655 non-null  object        \n",
      " 3   marital            42915 non-null  object        \n",
      " 4   education          41193 non-null  object        \n",
      " 5   default            34019 non-null  float64       \n",
      " 6   housing            41974 non-null  float64       \n",
      " 7   loan               41974 non-null  float64       \n",
      " 8   contact            43000 non-null  object        \n",
      " 9   duration           43000 non-null  int64         \n",
      " 10  campaign           43000 non-null  int64         \n",
      " 11  pdays              43000 non-null  int64         \n",
      " 12  previous           43000 non-null  int64         \n",
      " 13  poutcome           43000 non-null  object        \n",
      " 14  emp.var.rate       43000 non-null  float64       \n",
      " 15  cons.price.idx     42529 non-null  object        \n",
      " 16  cons.conf.idx      43000 non-null  object        \n",
      " 17  euribor3m          33744 non-null  object        \n",
      " 18  nr.employed        43000 non-null  object        \n",
      " 19  y                  43000 non-null  object        \n",
      " 20  date               42752 non-null  object        \n",
      " 21  latitude           43000 non-null  float64       \n",
      " 22  longitude          43000 non-null  float64       \n",
      " 23  id_                43000 non-null  object        \n",
      " 24  Unnamed: 0_y       20018 non-null  float64       \n",
      " 25  Income             20018 non-null  float64       \n",
      " 26  Kidhome            20018 non-null  float64       \n",
      " 27  Teenhome           20018 non-null  float64       \n",
      " 28  Dt_Customer        20018 non-null  datetime64[ns]\n",
      " 29  NumWebVisitsMonth  20018 non-null  float64       \n",
      "dtypes: datetime64[ns](1), float64(12), int64(5), object(12)\n",
      "memory usage: 9.8+ MB\n",
      "None\n",
      "   Unnamed: 0_x   age        job  marital    education  default  housing  \\\n",
      "0             0   NaN  housemaid  MARRIED     basic.4y      0.0      0.0   \n",
      "1             1  57.0   services  MARRIED  high.school      NaN      0.0   \n",
      "2             2  37.0   services  MARRIED  high.school      0.0      1.0   \n",
      "3             3  40.0     admin.  MARRIED     basic.6y      0.0      0.0   \n",
      "4             4  56.0   services  MARRIED  high.school      0.0      0.0   \n",
      "\n",
      "   loan    contact  duration  ...                date  latitude  longitude  \\\n",
      "0   0.0  telephone       261  ...       2-agosto-2019    41.495    -71.233   \n",
      "1   0.0  telephone       149  ...  14-septiembre-2016    34.601    -83.923   \n",
      "2   0.0  telephone       226  ...     15-febrero-2019    34.939    -94.847   \n",
      "3   0.0  telephone       151  ...   29-noviembre-2015    49.041    -70.308   \n",
      "4   1.0  telephone       307  ...       29-enero-2017    38.033   -104.463   \n",
      "\n",
      "                                    id_  Unnamed: 0_y    Income Kidhome  \\\n",
      "0  089b39d8-e4d0-461b-87d4-814d71e0e079           0.0  161770.0     1.0   \n",
      "1  e9d37224-cb6f-4942-98d7-46672963d097           1.0   85477.0     1.0   \n",
      "2  3f9f49b5-e410-4948-bf6e-f9244f04918b           2.0  147233.0     1.0   \n",
      "3  9991fafb-4447-451a-8be2-b0df6098d13e           3.0  121393.0     1.0   \n",
      "4  eca60b76-70b6-4077-80ba-bc52e8ebb0eb           4.0   63164.0     1.0   \n",
      "\n",
      "  Teenhome Dt_Customer NumWebVisitsMonth  \n",
      "0      0.0  2012-04-04              29.0  \n",
      "1      1.0  2012-12-30               7.0  \n",
      "2      1.0  2012-02-02               5.0  \n",
      "3      2.0  2012-12-21              29.0  \n",
      "4      2.0  2012-06-20              20.0  \n",
      "\n",
      "[5 rows x 30 columns]\n"
     ]
    }
   ],
   "source": [
    "df_merged = df1.merge(df2, on=\"id_\", how=\"left\")\n",
    "print(df_merged.info())\n",
    "print(df_merged.head())\n"
   ]
  }
 ],
 "metadata": {
  "kernelspec": {
   "display_name": "venv",
   "language": "python",
   "name": "python3"
  },
  "language_info": {
   "codemirror_mode": {
    "name": "ipython",
    "version": 3
   },
   "file_extension": ".py",
   "mimetype": "text/x-python",
   "name": "python",
   "nbconvert_exporter": "python",
   "pygments_lexer": "ipython3",
   "version": "3.13.0"
  }
 },
 "nbformat": 4,
 "nbformat_minor": 2
}
