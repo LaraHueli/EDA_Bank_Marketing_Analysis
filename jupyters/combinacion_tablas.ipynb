{
 "cells": [
  {
   "cell_type": "code",
   "execution_count": 65,
   "metadata": {},
   "outputs": [],
   "source": [
    "import pandas as pd\n",
    "import seaborn as sns\n",
    "import matplotlib.pyplot as plt"
   ]
  },
  {
   "cell_type": "code",
   "execution_count": 66,
   "metadata": {},
   "outputs": [],
   "source": [
    "ruta = r\"C:\\Users\\antonio\\Desktop\\EDA_Bank_Marketing_Analysis\\data\"\n",
    "df1 = pd.read_csv(ruta + r\"\\bank-additional.csv\", index_col=0)\n",
    "df2 = pd.read_excel(ruta + r\"\\customer-details.xlsx\", index_col=0)"
   ]
  },
  {
   "cell_type": "code",
   "execution_count": 67,
   "metadata": {},
   "outputs": [],
   "source": [
    "# Renombramos columnas\n",
    "df2.rename(columns={\"ID\": \"id_\"}, inplace=True)"
   ]
  },
  {
   "cell_type": "code",
   "execution_count": null,
   "metadata": {},
   "outputs": [],
   "source": [
    "print(df1.columns)\n",
    "print(df2.columns)"
   ]
  },
  {
   "cell_type": "code",
   "execution_count": null,
   "metadata": {},
   "outputs": [],
   "source": [
    "#Verificar duplicados en id_\n",
    "print(f\"Duplicados en df1 (bank-additional): {df1['id_'].duplicated().sum()}\")\n",
    "print(f\"Duplicados en df2 (customer-details): {df2['id_'].duplicated().sum()}\")\n"
   ]
  },
  {
   "cell_type": "code",
   "execution_count": null,
   "metadata": {},
   "outputs": [],
   "source": [
    "# verificamos nulos\n",
    "print(\"Valores nulos en df1 (bank-additional):\")\n",
    "print(df1.isnull().sum())\n",
    "\n",
    "print(\"\\nValores nulos en df2 (customer-details):\")\n",
    "print(df2.isnull().sum())\n"
   ]
  },
  {
   "cell_type": "code",
   "execution_count": null,
   "metadata": {},
   "outputs": [],
   "source": [
    "df_merged = df1.merge(df2, on=\"id_\", how=\"left\")\n",
    "print(df_merged.info())\n",
    "print(df_merged.head())\n"
   ]
  },
  {
   "cell_type": "code",
   "execution_count": null,
   "metadata": {},
   "outputs": [],
   "source": [
    "df_merged.isnull().sum()\n"
   ]
  },
  {
   "cell_type": "code",
   "execution_count": null,
   "metadata": {},
   "outputs": [],
   "source": [
    "print(f\"Dimensiones de df1 (bank-additional): {df1.shape}\")\n",
    "print(f\"Dimensiones de df2 (customer-details): {df2.shape}\")\n",
    "print(f\"Dimensiones de df_merged: {df_merged.shape}\")\n"
   ]
  },
  {
   "cell_type": "code",
   "execution_count": null,
   "metadata": {},
   "outputs": [],
   "source": [
    "# Convertir 'y' a numérico (0 = no, 1 = yes)\n",
    "df_merged['y'] = df_merged['y'].map({'no': 0, 'yes': 1}) \n",
    "\n",
    "# Filtrar solo columnas numéricas\n",
    "df_numeric = df_merged.select_dtypes(include=['number'])\n",
    "\n",
    "# Graficar la matriz de correlación\n",
    "plt.figure(figsize=(10,6))\n",
    "sns.heatmap(df_numeric.corr(), annot=True, cmap=\"coolwarm\", fmt=\".2f\")\n",
    "plt.title(\"Matriz de correlación en df_merged (incluyendo y)\")\n",
    "plt.show()\n"
   ]
  },
  {
   "cell_type": "code",
   "execution_count": null,
   "metadata": {},
   "outputs": [],
   "source": [
    "# Eliminar columnas de df2 del df_merged\n",
    "columnas_a_eliminar = ['Income', 'Kidhome', 'Teenhome', 'Dt_Customer', 'NumWebVisitsMonth']\n",
    "df_merged.drop(columns=columnas_a_eliminar, inplace=True)\n",
    "\n",
    "# Revisar dimensiones finales\n",
    "print(f\"Dimensiones finales de df_merged: {df_merged.shape}\")\n"
   ]
  },
  {
   "cell_type": "code",
   "execution_count": null,
   "metadata": {},
   "outputs": [],
   "source": [
    "print(df_merged.info())\n",
    "print(df_merged.isnull().sum())\n",
    "print(df_merged['y'].value_counts())\n"
   ]
  },
  {
   "cell_type": "code",
   "execution_count": 80,
   "metadata": {},
   "outputs": [
    {
     "name": "stdout",
     "output_type": "stream",
     "text": [
      "✅ Archivo guardado en C:\\Users\\antonio\\Desktop\\EDA_Bank_Marketing_Analysis\\data\\df_combinado.csv\n"
     ]
    }
   ],
   "source": [
    "ruta_guardado = r\"C:\\Users\\antonio\\Desktop\\EDA_Bank_Marketing_Analysis\\data\\df_combinado.csv\"\n",
    "\n",
    "\n",
    "# Guardar en formato CSV sin el índice\n",
    "df_merged.to_csv(ruta_guardado, index=False, encoding='utf-8')\n",
    "\n",
    "print(f\"✅ Archivo guardado en {ruta_guardado}\")\n",
    "\n",
    "\n"
   ]
  }
 ],
 "metadata": {
  "kernelspec": {
   "display_name": "venv",
   "language": "python",
   "name": "python3"
  },
  "language_info": {
   "codemirror_mode": {
    "name": "ipython",
    "version": 3
   },
   "file_extension": ".py",
   "mimetype": "text/x-python",
   "name": "python",
   "nbconvert_exporter": "python",
   "pygments_lexer": "ipython3",
   "version": "3.13.0"
  }
 },
 "nbformat": 4,
 "nbformat_minor": 2
}
